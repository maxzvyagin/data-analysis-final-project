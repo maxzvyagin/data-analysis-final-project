{
 "cells": [
  {
   "cell_type": "code",
   "execution_count": 675,
   "metadata": {},
   "outputs": [],
   "source": [
    "### Need to integrate dataframe of confirmed serial killings with exisiting homicide records then train neural network"
   ]
  },
  {
   "cell_type": "code",
   "execution_count": 676,
   "metadata": {},
   "outputs": [],
   "source": [
    "import pandas as pd\n",
    "import numpy as np\n",
    "from sklearn.model_selection import train_test_split\n",
    "from sklearn.neural_network import MLPClassifier"
   ]
  },
  {
   "cell_type": "code",
   "execution_count": 864,
   "metadata": {},
   "outputs": [],
   "source": [
    "# confirmed killings from 60 different serial killers on Wikipedia\n",
    "confirmed = pd.read_excel('Confirmed Serial Killings Database.xlsx')\n",
    "confirmed = confirmed.drop('Murderer', axis=1)\n",
    "confirmed['SK'] = True\n",
    "confirmed = confirmed.replace(\"F\", \"Female\")\n",
    "confirmed = confirmed.replace(\"M\", \"Male\")\n",
    "confirmed = confirmed.replace(\"U\", \"Unknown\")\n",
    "confirmed = confirmed.replace(\"M \", \"Male\")\n",
    "confirmed = confirmed.replace(\"U \", \"Unknown\")\n",
    "confirmed = pd.get_dummies(confirmed, columns=['Perpetrator Sex', 'Perpetrator Race','Victim Sex','Weapon', 'State','City'])"
   ]
  },
  {
   "cell_type": "code",
   "execution_count": 865,
   "metadata": {},
   "outputs": [
    {
     "data": {
      "text/html": [
       "<div>\n",
       "<style scoped>\n",
       "    .dataframe tbody tr th:only-of-type {\n",
       "        vertical-align: middle;\n",
       "    }\n",
       "\n",
       "    .dataframe tbody tr th {\n",
       "        vertical-align: top;\n",
       "    }\n",
       "\n",
       "    .dataframe thead th {\n",
       "        text-align: right;\n",
       "    }\n",
       "</style>\n",
       "<table border=\"1\" class=\"dataframe\">\n",
       "  <thead>\n",
       "    <tr style=\"text-align: right;\">\n",
       "      <th></th>\n",
       "      <th>Year</th>\n",
       "      <th>Victim Age</th>\n",
       "      <th>SK</th>\n",
       "      <th>Perpetrator Sex_Female</th>\n",
       "      <th>Perpetrator Sex_Male</th>\n",
       "      <th>Perpetrator Race_Black</th>\n",
       "      <th>Perpetrator Race_Unknown</th>\n",
       "      <th>Perpetrator Race_White</th>\n",
       "      <th>Victim Sex_Female</th>\n",
       "      <th>Victim Sex_Male</th>\n",
       "      <th>...</th>\n",
       "      <th>City_St Regis</th>\n",
       "      <th>City_Suffolk County</th>\n",
       "      <th>City_Tampa Bay</th>\n",
       "      <th>City_Temecula</th>\n",
       "      <th>City_Terrebonne Parish</th>\n",
       "      <th>City_Toledo</th>\n",
       "      <th>City_Vancouver</th>\n",
       "      <th>City_Villa Park</th>\n",
       "      <th>City_Walnut</th>\n",
       "      <th>City_Watertown</th>\n",
       "    </tr>\n",
       "  </thead>\n",
       "  <tbody>\n",
       "    <tr>\n",
       "      <th>0</th>\n",
       "      <td>1983</td>\n",
       "      <td>83.0</td>\n",
       "      <td>True</td>\n",
       "      <td>0</td>\n",
       "      <td>1</td>\n",
       "      <td>1</td>\n",
       "      <td>0</td>\n",
       "      <td>0</td>\n",
       "      <td>1</td>\n",
       "      <td>0</td>\n",
       "      <td>...</td>\n",
       "      <td>0</td>\n",
       "      <td>0</td>\n",
       "      <td>0</td>\n",
       "      <td>0</td>\n",
       "      <td>0</td>\n",
       "      <td>0</td>\n",
       "      <td>0</td>\n",
       "      <td>0</td>\n",
       "      <td>0</td>\n",
       "      <td>0</td>\n",
       "    </tr>\n",
       "    <tr>\n",
       "      <th>1</th>\n",
       "      <td>1987</td>\n",
       "      <td>31.0</td>\n",
       "      <td>True</td>\n",
       "      <td>0</td>\n",
       "      <td>1</td>\n",
       "      <td>1</td>\n",
       "      <td>0</td>\n",
       "      <td>0</td>\n",
       "      <td>1</td>\n",
       "      <td>0</td>\n",
       "      <td>...</td>\n",
       "      <td>0</td>\n",
       "      <td>0</td>\n",
       "      <td>0</td>\n",
       "      <td>0</td>\n",
       "      <td>0</td>\n",
       "      <td>0</td>\n",
       "      <td>0</td>\n",
       "      <td>0</td>\n",
       "      <td>0</td>\n",
       "      <td>0</td>\n",
       "    </tr>\n",
       "    <tr>\n",
       "      <th>2</th>\n",
       "      <td>1990</td>\n",
       "      <td>48.0</td>\n",
       "      <td>True</td>\n",
       "      <td>0</td>\n",
       "      <td>1</td>\n",
       "      <td>1</td>\n",
       "      <td>0</td>\n",
       "      <td>0</td>\n",
       "      <td>1</td>\n",
       "      <td>0</td>\n",
       "      <td>...</td>\n",
       "      <td>0</td>\n",
       "      <td>0</td>\n",
       "      <td>0</td>\n",
       "      <td>0</td>\n",
       "      <td>0</td>\n",
       "      <td>0</td>\n",
       "      <td>0</td>\n",
       "      <td>0</td>\n",
       "      <td>0</td>\n",
       "      <td>0</td>\n",
       "    </tr>\n",
       "    <tr>\n",
       "      <th>3</th>\n",
       "      <td>1990</td>\n",
       "      <td>13.0</td>\n",
       "      <td>True</td>\n",
       "      <td>0</td>\n",
       "      <td>1</td>\n",
       "      <td>0</td>\n",
       "      <td>1</td>\n",
       "      <td>0</td>\n",
       "      <td>1</td>\n",
       "      <td>0</td>\n",
       "      <td>...</td>\n",
       "      <td>0</td>\n",
       "      <td>0</td>\n",
       "      <td>0</td>\n",
       "      <td>0</td>\n",
       "      <td>0</td>\n",
       "      <td>0</td>\n",
       "      <td>0</td>\n",
       "      <td>0</td>\n",
       "      <td>0</td>\n",
       "      <td>0</td>\n",
       "    </tr>\n",
       "    <tr>\n",
       "      <th>4</th>\n",
       "      <td>2002</td>\n",
       "      <td>45.0</td>\n",
       "      <td>True</td>\n",
       "      <td>0</td>\n",
       "      <td>1</td>\n",
       "      <td>1</td>\n",
       "      <td>0</td>\n",
       "      <td>0</td>\n",
       "      <td>0</td>\n",
       "      <td>1</td>\n",
       "      <td>...</td>\n",
       "      <td>0</td>\n",
       "      <td>0</td>\n",
       "      <td>0</td>\n",
       "      <td>0</td>\n",
       "      <td>0</td>\n",
       "      <td>0</td>\n",
       "      <td>0</td>\n",
       "      <td>0</td>\n",
       "      <td>0</td>\n",
       "      <td>0</td>\n",
       "    </tr>\n",
       "  </tbody>\n",
       "</table>\n",
       "<p>5 rows × 146 columns</p>\n",
       "</div>"
      ],
      "text/plain": [
       "   Year  Victim Age    SK  Perpetrator Sex_Female  Perpetrator Sex_Male  \\\n",
       "0  1983        83.0  True                       0                     1   \n",
       "1  1987        31.0  True                       0                     1   \n",
       "2  1990        48.0  True                       0                     1   \n",
       "3  1990        13.0  True                       0                     1   \n",
       "4  2002        45.0  True                       0                     1   \n",
       "\n",
       "   Perpetrator Race_Black  Perpetrator Race_Unknown  Perpetrator Race_White  \\\n",
       "0                       1                         0                       0   \n",
       "1                       1                         0                       0   \n",
       "2                       1                         0                       0   \n",
       "3                       0                         1                       0   \n",
       "4                       1                         0                       0   \n",
       "\n",
       "   Victim Sex_Female  Victim Sex_Male  ...  City_St Regis  \\\n",
       "0                  1                0  ...              0   \n",
       "1                  1                0  ...              0   \n",
       "2                  1                0  ...              0   \n",
       "3                  1                0  ...              0   \n",
       "4                  0                1  ...              0   \n",
       "\n",
       "   City_Suffolk County  City_Tampa Bay  City_Temecula  City_Terrebonne Parish  \\\n",
       "0                    0               0              0                       0   \n",
       "1                    0               0              0                       0   \n",
       "2                    0               0              0                       0   \n",
       "3                    0               0              0                       0   \n",
       "4                    0               0              0                       0   \n",
       "\n",
       "   City_Toledo  City_Vancouver  City_Villa Park  City_Walnut  City_Watertown  \n",
       "0            0               0                0            0               0  \n",
       "1            0               0                0            0               0  \n",
       "2            0               0                0            0               0  \n",
       "3            0               0                0            0               0  \n",
       "4            0               0                0            0               0  \n",
       "\n",
       "[5 rows x 146 columns]"
      ]
     },
     "execution_count": 865,
     "metadata": {},
     "output_type": "execute_result"
    }
   ],
   "source": [
    "confirmed.head()"
   ]
  },
  {
   "cell_type": "code",
   "execution_count": 866,
   "metadata": {},
   "outputs": [
    {
     "name": "stderr",
     "output_type": "stream",
     "text": [
      "/opt/anaconda3/lib/python3.7/site-packages/IPython/core/interactiveshell.py:3063: DtypeWarning: Columns (16) have mixed types.Specify dtype option on import or set low_memory=False.\n",
      "  interactivity=interactivity, compiler=compiler, result=result)\n"
     ]
    }
   ],
   "source": [
    "# load in the homicides database from MAP\n",
    "homicides = pd.read_csv(\"homicide_database.csv\")"
   ]
  },
  {
   "cell_type": "code",
   "execution_count": 867,
   "metadata": {},
   "outputs": [
    {
     "data": {
      "text/html": [
       "<div>\n",
       "<style scoped>\n",
       "    .dataframe tbody tr th:only-of-type {\n",
       "        vertical-align: middle;\n",
       "    }\n",
       "\n",
       "    .dataframe tbody tr th {\n",
       "        vertical-align: top;\n",
       "    }\n",
       "\n",
       "    .dataframe thead th {\n",
       "        text-align: right;\n",
       "    }\n",
       "</style>\n",
       "<table border=\"1\" class=\"dataframe\">\n",
       "  <thead>\n",
       "    <tr style=\"text-align: right;\">\n",
       "      <th></th>\n",
       "      <th>Record ID</th>\n",
       "      <th>Agency Code</th>\n",
       "      <th>Agency Name</th>\n",
       "      <th>Agency Type</th>\n",
       "      <th>City</th>\n",
       "      <th>State</th>\n",
       "      <th>Year</th>\n",
       "      <th>Month</th>\n",
       "      <th>Incident</th>\n",
       "      <th>Crime Type</th>\n",
       "      <th>...</th>\n",
       "      <th>Victim Ethnicity</th>\n",
       "      <th>Perpetrator Sex</th>\n",
       "      <th>Perpetrator Age</th>\n",
       "      <th>Perpetrator Race</th>\n",
       "      <th>Perpetrator Ethnicity</th>\n",
       "      <th>Relationship</th>\n",
       "      <th>Weapon</th>\n",
       "      <th>Victim Count</th>\n",
       "      <th>Perpetrator Count</th>\n",
       "      <th>Record Source</th>\n",
       "    </tr>\n",
       "  </thead>\n",
       "  <tbody>\n",
       "    <tr>\n",
       "      <th>0</th>\n",
       "      <td>1</td>\n",
       "      <td>AK00101</td>\n",
       "      <td>Anchorage</td>\n",
       "      <td>Municipal Police</td>\n",
       "      <td>Anchorage</td>\n",
       "      <td>Alaska</td>\n",
       "      <td>1980</td>\n",
       "      <td>January</td>\n",
       "      <td>1</td>\n",
       "      <td>Murder or Manslaughter</td>\n",
       "      <td>...</td>\n",
       "      <td>Unknown</td>\n",
       "      <td>Male</td>\n",
       "      <td>15</td>\n",
       "      <td>Native American/Alaska Native</td>\n",
       "      <td>Unknown</td>\n",
       "      <td>Acquaintance</td>\n",
       "      <td>Blunt Object</td>\n",
       "      <td>0</td>\n",
       "      <td>0</td>\n",
       "      <td>FBI</td>\n",
       "    </tr>\n",
       "    <tr>\n",
       "      <th>1</th>\n",
       "      <td>2</td>\n",
       "      <td>AK00101</td>\n",
       "      <td>Anchorage</td>\n",
       "      <td>Municipal Police</td>\n",
       "      <td>Anchorage</td>\n",
       "      <td>Alaska</td>\n",
       "      <td>1980</td>\n",
       "      <td>March</td>\n",
       "      <td>1</td>\n",
       "      <td>Murder or Manslaughter</td>\n",
       "      <td>...</td>\n",
       "      <td>Unknown</td>\n",
       "      <td>Male</td>\n",
       "      <td>42</td>\n",
       "      <td>White</td>\n",
       "      <td>Unknown</td>\n",
       "      <td>Acquaintance</td>\n",
       "      <td>Strangulation</td>\n",
       "      <td>0</td>\n",
       "      <td>0</td>\n",
       "      <td>FBI</td>\n",
       "    </tr>\n",
       "    <tr>\n",
       "      <th>2</th>\n",
       "      <td>3</td>\n",
       "      <td>AK00101</td>\n",
       "      <td>Anchorage</td>\n",
       "      <td>Municipal Police</td>\n",
       "      <td>Anchorage</td>\n",
       "      <td>Alaska</td>\n",
       "      <td>1980</td>\n",
       "      <td>March</td>\n",
       "      <td>2</td>\n",
       "      <td>Murder or Manslaughter</td>\n",
       "      <td>...</td>\n",
       "      <td>Unknown</td>\n",
       "      <td>Unknown</td>\n",
       "      <td>0</td>\n",
       "      <td>Unknown</td>\n",
       "      <td>Unknown</td>\n",
       "      <td>Unknown</td>\n",
       "      <td>Unknown</td>\n",
       "      <td>0</td>\n",
       "      <td>0</td>\n",
       "      <td>FBI</td>\n",
       "    </tr>\n",
       "    <tr>\n",
       "      <th>3</th>\n",
       "      <td>4</td>\n",
       "      <td>AK00101</td>\n",
       "      <td>Anchorage</td>\n",
       "      <td>Municipal Police</td>\n",
       "      <td>Anchorage</td>\n",
       "      <td>Alaska</td>\n",
       "      <td>1980</td>\n",
       "      <td>April</td>\n",
       "      <td>1</td>\n",
       "      <td>Murder or Manslaughter</td>\n",
       "      <td>...</td>\n",
       "      <td>Unknown</td>\n",
       "      <td>Male</td>\n",
       "      <td>42</td>\n",
       "      <td>White</td>\n",
       "      <td>Unknown</td>\n",
       "      <td>Acquaintance</td>\n",
       "      <td>Strangulation</td>\n",
       "      <td>0</td>\n",
       "      <td>0</td>\n",
       "      <td>FBI</td>\n",
       "    </tr>\n",
       "    <tr>\n",
       "      <th>4</th>\n",
       "      <td>5</td>\n",
       "      <td>AK00101</td>\n",
       "      <td>Anchorage</td>\n",
       "      <td>Municipal Police</td>\n",
       "      <td>Anchorage</td>\n",
       "      <td>Alaska</td>\n",
       "      <td>1980</td>\n",
       "      <td>April</td>\n",
       "      <td>2</td>\n",
       "      <td>Murder or Manslaughter</td>\n",
       "      <td>...</td>\n",
       "      <td>Unknown</td>\n",
       "      <td>Unknown</td>\n",
       "      <td>0</td>\n",
       "      <td>Unknown</td>\n",
       "      <td>Unknown</td>\n",
       "      <td>Unknown</td>\n",
       "      <td>Unknown</td>\n",
       "      <td>0</td>\n",
       "      <td>1</td>\n",
       "      <td>FBI</td>\n",
       "    </tr>\n",
       "  </tbody>\n",
       "</table>\n",
       "<p>5 rows × 24 columns</p>\n",
       "</div>"
      ],
      "text/plain": [
       "   Record ID Agency Code Agency Name       Agency Type       City   State  \\\n",
       "0          1     AK00101   Anchorage  Municipal Police  Anchorage  Alaska   \n",
       "1          2     AK00101   Anchorage  Municipal Police  Anchorage  Alaska   \n",
       "2          3     AK00101   Anchorage  Municipal Police  Anchorage  Alaska   \n",
       "3          4     AK00101   Anchorage  Municipal Police  Anchorage  Alaska   \n",
       "4          5     AK00101   Anchorage  Municipal Police  Anchorage  Alaska   \n",
       "\n",
       "   Year    Month  Incident              Crime Type  ... Victim Ethnicity  \\\n",
       "0  1980  January         1  Murder or Manslaughter  ...          Unknown   \n",
       "1  1980    March         1  Murder or Manslaughter  ...          Unknown   \n",
       "2  1980    March         2  Murder or Manslaughter  ...          Unknown   \n",
       "3  1980    April         1  Murder or Manslaughter  ...          Unknown   \n",
       "4  1980    April         2  Murder or Manslaughter  ...          Unknown   \n",
       "\n",
       "  Perpetrator Sex  Perpetrator Age               Perpetrator Race  \\\n",
       "0            Male               15  Native American/Alaska Native   \n",
       "1            Male               42                          White   \n",
       "2         Unknown                0                        Unknown   \n",
       "3            Male               42                          White   \n",
       "4         Unknown                0                        Unknown   \n",
       "\n",
       "  Perpetrator Ethnicity  Relationship         Weapon Victim Count  \\\n",
       "0               Unknown  Acquaintance   Blunt Object            0   \n",
       "1               Unknown  Acquaintance  Strangulation            0   \n",
       "2               Unknown       Unknown        Unknown            0   \n",
       "3               Unknown  Acquaintance  Strangulation            0   \n",
       "4               Unknown       Unknown        Unknown            0   \n",
       "\n",
       "  Perpetrator Count Record Source  \n",
       "0                 0           FBI  \n",
       "1                 0           FBI  \n",
       "2                 0           FBI  \n",
       "3                 0           FBI  \n",
       "4                 1           FBI  \n",
       "\n",
       "[5 rows x 24 columns]"
      ]
     },
     "execution_count": 867,
     "metadata": {},
     "output_type": "execute_result"
    }
   ],
   "source": [
    "homicides.head()"
   ]
  },
  {
   "cell_type": "code",
   "execution_count": 868,
   "metadata": {},
   "outputs": [],
   "source": [
    "# train a neural network on my database and samples from the homicide database\n",
    "training_confirmed, test_confirmed = train_test_split(confirmed, test_size=0.4)"
   ]
  },
  {
   "cell_type": "code",
   "execution_count": 869,
   "metadata": {},
   "outputs": [
    {
     "data": {
      "text/plain": [
       "Index(['Record ID', 'Agency Code', 'Agency Name', 'Agency Type', 'City',\n",
       "       'State', 'Year', 'Month', 'Incident', 'Crime Type', 'Crime Solved',\n",
       "       'Victim Sex', 'Victim Age', 'Victim Race', 'Victim Ethnicity',\n",
       "       'Perpetrator Sex', 'Perpetrator Age', 'Perpetrator Race',\n",
       "       'Perpetrator Ethnicity', 'Relationship', 'Weapon', 'Victim Count',\n",
       "       'Perpetrator Count', 'Record Source'],\n",
       "      dtype='object')"
      ]
     },
     "execution_count": 869,
     "metadata": {},
     "output_type": "execute_result"
    }
   ],
   "source": [
    "homicides.columns"
   ]
  },
  {
   "cell_type": "code",
   "execution_count": 870,
   "metadata": {},
   "outputs": [],
   "source": [
    "homicides_cleaned = homicides[homicides['Crime Type']==\"Murder or Manslaughter\"]\n",
    "homicides_cleaned = homicides.drop(['Record ID','Agency Code','Agency Name','Agency Type','Month','Incident','Crime Solved',\n",
    "                                   'Victim Race','Victim Ethnicity','Perpetrator Age','Perpetrator Ethnicity','Relationship',\n",
    "                                   'Victim Count','Perpetrator Count','Record Source', 'Crime Type'], axis=1)\n",
    "homicides_cleaned['SK'] = False"
   ]
  },
  {
   "cell_type": "code",
   "execution_count": 871,
   "metadata": {},
   "outputs": [],
   "source": [
    "dummified_homicides = pd.get_dummies(homicides_cleaned, columns=['Perpetrator Sex', 'Perpetrator Race','Victim Sex','Weapon', 'State','City'])"
   ]
  },
  {
   "cell_type": "code",
   "execution_count": 872,
   "metadata": {},
   "outputs": [
    {
     "data": {
      "text/html": [
       "<div>\n",
       "<style scoped>\n",
       "    .dataframe tbody tr th:only-of-type {\n",
       "        vertical-align: middle;\n",
       "    }\n",
       "\n",
       "    .dataframe tbody tr th {\n",
       "        vertical-align: top;\n",
       "    }\n",
       "\n",
       "    .dataframe thead th {\n",
       "        text-align: right;\n",
       "    }\n",
       "</style>\n",
       "<table border=\"1\" class=\"dataframe\">\n",
       "  <thead>\n",
       "    <tr style=\"text-align: right;\">\n",
       "      <th></th>\n",
       "      <th>Year</th>\n",
       "      <th>Victim Age</th>\n",
       "      <th>SK</th>\n",
       "      <th>Perpetrator Sex_Female</th>\n",
       "      <th>Perpetrator Sex_Male</th>\n",
       "      <th>Perpetrator Sex_Unknown</th>\n",
       "      <th>Perpetrator Race_Asian/Pacific Islander</th>\n",
       "      <th>Perpetrator Race_Black</th>\n",
       "      <th>Perpetrator Race_Native American/Alaska Native</th>\n",
       "      <th>Perpetrator Race_Unknown</th>\n",
       "      <th>...</th>\n",
       "      <th>City_Yellowstone</th>\n",
       "      <th>City_Yoakum</th>\n",
       "      <th>City_Yolo</th>\n",
       "      <th>City_York</th>\n",
       "      <th>City_Young</th>\n",
       "      <th>City_Yuba</th>\n",
       "      <th>City_Yukon-Koyukuk</th>\n",
       "      <th>City_Yuma</th>\n",
       "      <th>City_Zapata</th>\n",
       "      <th>City_Zavala</th>\n",
       "    </tr>\n",
       "  </thead>\n",
       "  <tbody>\n",
       "    <tr>\n",
       "      <th>0</th>\n",
       "      <td>1980</td>\n",
       "      <td>14</td>\n",
       "      <td>False</td>\n",
       "      <td>0</td>\n",
       "      <td>1</td>\n",
       "      <td>0</td>\n",
       "      <td>0</td>\n",
       "      <td>0</td>\n",
       "      <td>1</td>\n",
       "      <td>0</td>\n",
       "      <td>...</td>\n",
       "      <td>0</td>\n",
       "      <td>0</td>\n",
       "      <td>0</td>\n",
       "      <td>0</td>\n",
       "      <td>0</td>\n",
       "      <td>0</td>\n",
       "      <td>0</td>\n",
       "      <td>0</td>\n",
       "      <td>0</td>\n",
       "      <td>0</td>\n",
       "    </tr>\n",
       "    <tr>\n",
       "      <th>1</th>\n",
       "      <td>1980</td>\n",
       "      <td>43</td>\n",
       "      <td>False</td>\n",
       "      <td>0</td>\n",
       "      <td>1</td>\n",
       "      <td>0</td>\n",
       "      <td>0</td>\n",
       "      <td>0</td>\n",
       "      <td>0</td>\n",
       "      <td>0</td>\n",
       "      <td>...</td>\n",
       "      <td>0</td>\n",
       "      <td>0</td>\n",
       "      <td>0</td>\n",
       "      <td>0</td>\n",
       "      <td>0</td>\n",
       "      <td>0</td>\n",
       "      <td>0</td>\n",
       "      <td>0</td>\n",
       "      <td>0</td>\n",
       "      <td>0</td>\n",
       "    </tr>\n",
       "    <tr>\n",
       "      <th>2</th>\n",
       "      <td>1980</td>\n",
       "      <td>30</td>\n",
       "      <td>False</td>\n",
       "      <td>0</td>\n",
       "      <td>0</td>\n",
       "      <td>1</td>\n",
       "      <td>0</td>\n",
       "      <td>0</td>\n",
       "      <td>0</td>\n",
       "      <td>1</td>\n",
       "      <td>...</td>\n",
       "      <td>0</td>\n",
       "      <td>0</td>\n",
       "      <td>0</td>\n",
       "      <td>0</td>\n",
       "      <td>0</td>\n",
       "      <td>0</td>\n",
       "      <td>0</td>\n",
       "      <td>0</td>\n",
       "      <td>0</td>\n",
       "      <td>0</td>\n",
       "    </tr>\n",
       "    <tr>\n",
       "      <th>3</th>\n",
       "      <td>1980</td>\n",
       "      <td>43</td>\n",
       "      <td>False</td>\n",
       "      <td>0</td>\n",
       "      <td>1</td>\n",
       "      <td>0</td>\n",
       "      <td>0</td>\n",
       "      <td>0</td>\n",
       "      <td>0</td>\n",
       "      <td>0</td>\n",
       "      <td>...</td>\n",
       "      <td>0</td>\n",
       "      <td>0</td>\n",
       "      <td>0</td>\n",
       "      <td>0</td>\n",
       "      <td>0</td>\n",
       "      <td>0</td>\n",
       "      <td>0</td>\n",
       "      <td>0</td>\n",
       "      <td>0</td>\n",
       "      <td>0</td>\n",
       "    </tr>\n",
       "    <tr>\n",
       "      <th>4</th>\n",
       "      <td>1980</td>\n",
       "      <td>30</td>\n",
       "      <td>False</td>\n",
       "      <td>0</td>\n",
       "      <td>0</td>\n",
       "      <td>1</td>\n",
       "      <td>0</td>\n",
       "      <td>0</td>\n",
       "      <td>0</td>\n",
       "      <td>1</td>\n",
       "      <td>...</td>\n",
       "      <td>0</td>\n",
       "      <td>0</td>\n",
       "      <td>0</td>\n",
       "      <td>0</td>\n",
       "      <td>0</td>\n",
       "      <td>0</td>\n",
       "      <td>0</td>\n",
       "      <td>0</td>\n",
       "      <td>0</td>\n",
       "      <td>0</td>\n",
       "    </tr>\n",
       "  </tbody>\n",
       "</table>\n",
       "<p>5 rows × 1863 columns</p>\n",
       "</div>"
      ],
      "text/plain": [
       "   Year  Victim Age     SK  Perpetrator Sex_Female  Perpetrator Sex_Male  \\\n",
       "0  1980          14  False                       0                     1   \n",
       "1  1980          43  False                       0                     1   \n",
       "2  1980          30  False                       0                     0   \n",
       "3  1980          43  False                       0                     1   \n",
       "4  1980          30  False                       0                     0   \n",
       "\n",
       "   Perpetrator Sex_Unknown  Perpetrator Race_Asian/Pacific Islander  \\\n",
       "0                        0                                        0   \n",
       "1                        0                                        0   \n",
       "2                        1                                        0   \n",
       "3                        0                                        0   \n",
       "4                        1                                        0   \n",
       "\n",
       "   Perpetrator Race_Black  Perpetrator Race_Native American/Alaska Native  \\\n",
       "0                       0                                               1   \n",
       "1                       0                                               0   \n",
       "2                       0                                               0   \n",
       "3                       0                                               0   \n",
       "4                       0                                               0   \n",
       "\n",
       "   Perpetrator Race_Unknown  ...  City_Yellowstone  City_Yoakum  City_Yolo  \\\n",
       "0                         0  ...                 0            0          0   \n",
       "1                         0  ...                 0            0          0   \n",
       "2                         1  ...                 0            0          0   \n",
       "3                         0  ...                 0            0          0   \n",
       "4                         1  ...                 0            0          0   \n",
       "\n",
       "   City_York  City_Young  City_Yuba  City_Yukon-Koyukuk  City_Yuma  \\\n",
       "0          0           0          0                   0          0   \n",
       "1          0           0          0                   0          0   \n",
       "2          0           0          0                   0          0   \n",
       "3          0           0          0                   0          0   \n",
       "4          0           0          0                   0          0   \n",
       "\n",
       "   City_Zapata  City_Zavala  \n",
       "0            0            0  \n",
       "1            0            0  \n",
       "2            0            0  \n",
       "3            0            0  \n",
       "4            0            0  \n",
       "\n",
       "[5 rows x 1863 columns]"
      ]
     },
     "execution_count": 872,
     "metadata": {},
     "output_type": "execute_result"
    }
   ],
   "source": [
    "dummified_homicides.head()"
   ]
  },
  {
   "cell_type": "code",
   "execution_count": 686,
   "metadata": {},
   "outputs": [],
   "source": [
    "homicides_train = dummified_homicides.sample(n=len(training_confirmed))\n",
    "homicides_test = dummified_homicides.sample(n=len(test_confirmed))"
   ]
  },
  {
   "cell_type": "code",
   "execution_count": 687,
   "metadata": {},
   "outputs": [],
   "source": [
    "training_whole = pd.concat([training_confirmed, homicides_train])\n",
    "training_whole = training_whole.fillna(-1)"
   ]
  },
  {
   "cell_type": "code",
   "execution_count": 688,
   "metadata": {},
   "outputs": [
    {
     "data": {
      "text/html": [
       "<div>\n",
       "<style scoped>\n",
       "    .dataframe tbody tr th:only-of-type {\n",
       "        vertical-align: middle;\n",
       "    }\n",
       "\n",
       "    .dataframe tbody tr th {\n",
       "        vertical-align: top;\n",
       "    }\n",
       "\n",
       "    .dataframe thead th {\n",
       "        text-align: right;\n",
       "    }\n",
       "</style>\n",
       "<table border=\"1\" class=\"dataframe\">\n",
       "  <thead>\n",
       "    <tr style=\"text-align: right;\">\n",
       "      <th></th>\n",
       "      <th>Year</th>\n",
       "      <th>Victim Age</th>\n",
       "      <th>SK</th>\n",
       "      <th>Perpetrator Sex_Female</th>\n",
       "      <th>Perpetrator Sex_Male</th>\n",
       "      <th>Perpetrator Race_Black</th>\n",
       "      <th>Perpetrator Race_Unknown</th>\n",
       "      <th>Perpetrator Race_White</th>\n",
       "      <th>Victim Sex_Female</th>\n",
       "      <th>Victim Sex_Male</th>\n",
       "      <th>...</th>\n",
       "      <th>City_Yellowstone</th>\n",
       "      <th>City_Yoakum</th>\n",
       "      <th>City_Yolo</th>\n",
       "      <th>City_York</th>\n",
       "      <th>City_Young</th>\n",
       "      <th>City_Yuba</th>\n",
       "      <th>City_Yukon-Koyukuk</th>\n",
       "      <th>City_Yuma</th>\n",
       "      <th>City_Zapata</th>\n",
       "      <th>City_Zavala</th>\n",
       "    </tr>\n",
       "  </thead>\n",
       "  <tbody>\n",
       "    <tr>\n",
       "      <th>8</th>\n",
       "      <td>2000</td>\n",
       "      <td>32.0</td>\n",
       "      <td>True</td>\n",
       "      <td>0</td>\n",
       "      <td>1</td>\n",
       "      <td>0</td>\n",
       "      <td>0</td>\n",
       "      <td>1</td>\n",
       "      <td>1</td>\n",
       "      <td>0</td>\n",
       "      <td>...</td>\n",
       "      <td>-1.0</td>\n",
       "      <td>-1.0</td>\n",
       "      <td>-1.0</td>\n",
       "      <td>-1.0</td>\n",
       "      <td>-1.0</td>\n",
       "      <td>-1.0</td>\n",
       "      <td>-1.0</td>\n",
       "      <td>-1.0</td>\n",
       "      <td>-1.0</td>\n",
       "      <td>-1.0</td>\n",
       "    </tr>\n",
       "    <tr>\n",
       "      <th>288</th>\n",
       "      <td>1998</td>\n",
       "      <td>38.0</td>\n",
       "      <td>True</td>\n",
       "      <td>0</td>\n",
       "      <td>1</td>\n",
       "      <td>0</td>\n",
       "      <td>1</td>\n",
       "      <td>0</td>\n",
       "      <td>1</td>\n",
       "      <td>0</td>\n",
       "      <td>...</td>\n",
       "      <td>-1.0</td>\n",
       "      <td>-1.0</td>\n",
       "      <td>-1.0</td>\n",
       "      <td>-1.0</td>\n",
       "      <td>-1.0</td>\n",
       "      <td>-1.0</td>\n",
       "      <td>-1.0</td>\n",
       "      <td>-1.0</td>\n",
       "      <td>-1.0</td>\n",
       "      <td>-1.0</td>\n",
       "    </tr>\n",
       "    <tr>\n",
       "      <th>226</th>\n",
       "      <td>1985</td>\n",
       "      <td>38.0</td>\n",
       "      <td>True</td>\n",
       "      <td>0</td>\n",
       "      <td>1</td>\n",
       "      <td>0</td>\n",
       "      <td>0</td>\n",
       "      <td>1</td>\n",
       "      <td>1</td>\n",
       "      <td>0</td>\n",
       "      <td>...</td>\n",
       "      <td>-1.0</td>\n",
       "      <td>-1.0</td>\n",
       "      <td>-1.0</td>\n",
       "      <td>-1.0</td>\n",
       "      <td>-1.0</td>\n",
       "      <td>-1.0</td>\n",
       "      <td>-1.0</td>\n",
       "      <td>-1.0</td>\n",
       "      <td>-1.0</td>\n",
       "      <td>-1.0</td>\n",
       "    </tr>\n",
       "    <tr>\n",
       "      <th>28</th>\n",
       "      <td>1995</td>\n",
       "      <td>27.0</td>\n",
       "      <td>True</td>\n",
       "      <td>0</td>\n",
       "      <td>1</td>\n",
       "      <td>0</td>\n",
       "      <td>1</td>\n",
       "      <td>0</td>\n",
       "      <td>1</td>\n",
       "      <td>0</td>\n",
       "      <td>...</td>\n",
       "      <td>-1.0</td>\n",
       "      <td>-1.0</td>\n",
       "      <td>-1.0</td>\n",
       "      <td>-1.0</td>\n",
       "      <td>-1.0</td>\n",
       "      <td>-1.0</td>\n",
       "      <td>-1.0</td>\n",
       "      <td>-1.0</td>\n",
       "      <td>-1.0</td>\n",
       "      <td>-1.0</td>\n",
       "    </tr>\n",
       "    <tr>\n",
       "      <th>198</th>\n",
       "      <td>2004</td>\n",
       "      <td>21.0</td>\n",
       "      <td>True</td>\n",
       "      <td>0</td>\n",
       "      <td>1</td>\n",
       "      <td>0</td>\n",
       "      <td>1</td>\n",
       "      <td>0</td>\n",
       "      <td>0</td>\n",
       "      <td>1</td>\n",
       "      <td>...</td>\n",
       "      <td>-1.0</td>\n",
       "      <td>-1.0</td>\n",
       "      <td>-1.0</td>\n",
       "      <td>-1.0</td>\n",
       "      <td>-1.0</td>\n",
       "      <td>-1.0</td>\n",
       "      <td>-1.0</td>\n",
       "      <td>-1.0</td>\n",
       "      <td>-1.0</td>\n",
       "      <td>-1.0</td>\n",
       "    </tr>\n",
       "    <tr>\n",
       "      <th>...</th>\n",
       "      <td>...</td>\n",
       "      <td>...</td>\n",
       "      <td>...</td>\n",
       "      <td>...</td>\n",
       "      <td>...</td>\n",
       "      <td>...</td>\n",
       "      <td>...</td>\n",
       "      <td>...</td>\n",
       "      <td>...</td>\n",
       "      <td>...</td>\n",
       "      <td>...</td>\n",
       "      <td>...</td>\n",
       "      <td>...</td>\n",
       "      <td>...</td>\n",
       "      <td>...</td>\n",
       "      <td>...</td>\n",
       "      <td>...</td>\n",
       "      <td>...</td>\n",
       "      <td>...</td>\n",
       "      <td>...</td>\n",
       "      <td>...</td>\n",
       "    </tr>\n",
       "    <tr>\n",
       "      <th>466825</th>\n",
       "      <td>2004</td>\n",
       "      <td>7.0</td>\n",
       "      <td>False</td>\n",
       "      <td>0</td>\n",
       "      <td>1</td>\n",
       "      <td>1</td>\n",
       "      <td>0</td>\n",
       "      <td>0</td>\n",
       "      <td>0</td>\n",
       "      <td>1</td>\n",
       "      <td>...</td>\n",
       "      <td>0.0</td>\n",
       "      <td>0.0</td>\n",
       "      <td>0.0</td>\n",
       "      <td>0.0</td>\n",
       "      <td>0.0</td>\n",
       "      <td>0.0</td>\n",
       "      <td>0.0</td>\n",
       "      <td>0.0</td>\n",
       "      <td>0.0</td>\n",
       "      <td>0.0</td>\n",
       "    </tr>\n",
       "    <tr>\n",
       "      <th>562701</th>\n",
       "      <td>2009</td>\n",
       "      <td>65.0</td>\n",
       "      <td>False</td>\n",
       "      <td>0</td>\n",
       "      <td>0</td>\n",
       "      <td>0</td>\n",
       "      <td>1</td>\n",
       "      <td>0</td>\n",
       "      <td>1</td>\n",
       "      <td>0</td>\n",
       "      <td>...</td>\n",
       "      <td>0.0</td>\n",
       "      <td>0.0</td>\n",
       "      <td>0.0</td>\n",
       "      <td>0.0</td>\n",
       "      <td>0.0</td>\n",
       "      <td>0.0</td>\n",
       "      <td>0.0</td>\n",
       "      <td>0.0</td>\n",
       "      <td>0.0</td>\n",
       "      <td>0.0</td>\n",
       "    </tr>\n",
       "    <tr>\n",
       "      <th>406260</th>\n",
       "      <td>2000</td>\n",
       "      <td>25.0</td>\n",
       "      <td>False</td>\n",
       "      <td>0</td>\n",
       "      <td>1</td>\n",
       "      <td>0</td>\n",
       "      <td>0</td>\n",
       "      <td>0</td>\n",
       "      <td>0</td>\n",
       "      <td>1</td>\n",
       "      <td>...</td>\n",
       "      <td>0.0</td>\n",
       "      <td>0.0</td>\n",
       "      <td>0.0</td>\n",
       "      <td>0.0</td>\n",
       "      <td>0.0</td>\n",
       "      <td>0.0</td>\n",
       "      <td>0.0</td>\n",
       "      <td>0.0</td>\n",
       "      <td>0.0</td>\n",
       "      <td>0.0</td>\n",
       "    </tr>\n",
       "    <tr>\n",
       "      <th>555195</th>\n",
       "      <td>2009</td>\n",
       "      <td>53.0</td>\n",
       "      <td>False</td>\n",
       "      <td>1</td>\n",
       "      <td>0</td>\n",
       "      <td>1</td>\n",
       "      <td>0</td>\n",
       "      <td>0</td>\n",
       "      <td>0</td>\n",
       "      <td>1</td>\n",
       "      <td>...</td>\n",
       "      <td>0.0</td>\n",
       "      <td>0.0</td>\n",
       "      <td>0.0</td>\n",
       "      <td>0.0</td>\n",
       "      <td>0.0</td>\n",
       "      <td>0.0</td>\n",
       "      <td>0.0</td>\n",
       "      <td>0.0</td>\n",
       "      <td>0.0</td>\n",
       "      <td>0.0</td>\n",
       "    </tr>\n",
       "    <tr>\n",
       "      <th>501416</th>\n",
       "      <td>2006</td>\n",
       "      <td>12.0</td>\n",
       "      <td>False</td>\n",
       "      <td>0</td>\n",
       "      <td>1</td>\n",
       "      <td>0</td>\n",
       "      <td>0</td>\n",
       "      <td>1</td>\n",
       "      <td>1</td>\n",
       "      <td>0</td>\n",
       "      <td>...</td>\n",
       "      <td>0.0</td>\n",
       "      <td>0.0</td>\n",
       "      <td>0.0</td>\n",
       "      <td>0.0</td>\n",
       "      <td>0.0</td>\n",
       "      <td>0.0</td>\n",
       "      <td>0.0</td>\n",
       "      <td>0.0</td>\n",
       "      <td>0.0</td>\n",
       "      <td>0.0</td>\n",
       "    </tr>\n",
       "  </tbody>\n",
       "</table>\n",
       "<p>406 rows × 1944 columns</p>\n",
       "</div>"
      ],
      "text/plain": [
       "        Year  Victim Age     SK  Perpetrator Sex_Female  Perpetrator Sex_Male  \\\n",
       "8       2000        32.0   True                       0                     1   \n",
       "288     1998        38.0   True                       0                     1   \n",
       "226     1985        38.0   True                       0                     1   \n",
       "28      1995        27.0   True                       0                     1   \n",
       "198     2004        21.0   True                       0                     1   \n",
       "...      ...         ...    ...                     ...                   ...   \n",
       "466825  2004         7.0  False                       0                     1   \n",
       "562701  2009        65.0  False                       0                     0   \n",
       "406260  2000        25.0  False                       0                     1   \n",
       "555195  2009        53.0  False                       1                     0   \n",
       "501416  2006        12.0  False                       0                     1   \n",
       "\n",
       "        Perpetrator Race_Black  Perpetrator Race_Unknown  \\\n",
       "8                            0                         0   \n",
       "288                          0                         1   \n",
       "226                          0                         0   \n",
       "28                           0                         1   \n",
       "198                          0                         1   \n",
       "...                        ...                       ...   \n",
       "466825                       1                         0   \n",
       "562701                       0                         1   \n",
       "406260                       0                         0   \n",
       "555195                       1                         0   \n",
       "501416                       0                         0   \n",
       "\n",
       "        Perpetrator Race_White  Victim Sex_Female  Victim Sex_Male  ...  \\\n",
       "8                            1                  1                0  ...   \n",
       "288                          0                  1                0  ...   \n",
       "226                          1                  1                0  ...   \n",
       "28                           0                  1                0  ...   \n",
       "198                          0                  0                1  ...   \n",
       "...                        ...                ...              ...  ...   \n",
       "466825                       0                  0                1  ...   \n",
       "562701                       0                  1                0  ...   \n",
       "406260                       0                  0                1  ...   \n",
       "555195                       0                  0                1  ...   \n",
       "501416                       1                  1                0  ...   \n",
       "\n",
       "        City_Yellowstone  City_Yoakum  City_Yolo  City_York  City_Young  \\\n",
       "8                   -1.0         -1.0       -1.0       -1.0        -1.0   \n",
       "288                 -1.0         -1.0       -1.0       -1.0        -1.0   \n",
       "226                 -1.0         -1.0       -1.0       -1.0        -1.0   \n",
       "28                  -1.0         -1.0       -1.0       -1.0        -1.0   \n",
       "198                 -1.0         -1.0       -1.0       -1.0        -1.0   \n",
       "...                  ...          ...        ...        ...         ...   \n",
       "466825               0.0          0.0        0.0        0.0         0.0   \n",
       "562701               0.0          0.0        0.0        0.0         0.0   \n",
       "406260               0.0          0.0        0.0        0.0         0.0   \n",
       "555195               0.0          0.0        0.0        0.0         0.0   \n",
       "501416               0.0          0.0        0.0        0.0         0.0   \n",
       "\n",
       "        City_Yuba  City_Yukon-Koyukuk  City_Yuma  City_Zapata  City_Zavala  \n",
       "8            -1.0                -1.0       -1.0         -1.0         -1.0  \n",
       "288          -1.0                -1.0       -1.0         -1.0         -1.0  \n",
       "226          -1.0                -1.0       -1.0         -1.0         -1.0  \n",
       "28           -1.0                -1.0       -1.0         -1.0         -1.0  \n",
       "198          -1.0                -1.0       -1.0         -1.0         -1.0  \n",
       "...           ...                 ...        ...          ...          ...  \n",
       "466825        0.0                 0.0        0.0          0.0          0.0  \n",
       "562701        0.0                 0.0        0.0          0.0          0.0  \n",
       "406260        0.0                 0.0        0.0          0.0          0.0  \n",
       "555195        0.0                 0.0        0.0          0.0          0.0  \n",
       "501416        0.0                 0.0        0.0          0.0          0.0  \n",
       "\n",
       "[406 rows x 1944 columns]"
      ]
     },
     "execution_count": 688,
     "metadata": {},
     "output_type": "execute_result"
    }
   ],
   "source": [
    "training_whole"
   ]
  },
  {
   "cell_type": "code",
   "execution_count": 689,
   "metadata": {},
   "outputs": [],
   "source": [
    "labels = training_whole['SK']\n",
    "training_whole = training_whole.drop('SK', axis=1)"
   ]
  },
  {
   "cell_type": "code",
   "execution_count": 690,
   "metadata": {},
   "outputs": [],
   "source": [
    "# train the neural network\n",
    "sk_classifier = MLPClassifier(solver='lbfgs', alpha=1e-5, hidden_layer_sizes=(500,10), random_state=1)"
   ]
  },
  {
   "cell_type": "code",
   "execution_count": 691,
   "metadata": {},
   "outputs": [
    {
     "data": {
      "text/plain": [
       "MLPClassifier(activation='relu', alpha=1e-05, batch_size='auto', beta_1=0.9,\n",
       "              beta_2=0.999, early_stopping=False, epsilon=1e-08,\n",
       "              hidden_layer_sizes=(500, 10), learning_rate='constant',\n",
       "              learning_rate_init=0.001, max_fun=15000, max_iter=200,\n",
       "              momentum=0.9, n_iter_no_change=10, nesterovs_momentum=True,\n",
       "              power_t=0.5, random_state=1, shuffle=True, solver='lbfgs',\n",
       "              tol=0.0001, validation_fraction=0.1, verbose=False,\n",
       "              warm_start=False)"
      ]
     },
     "execution_count": 691,
     "metadata": {},
     "output_type": "execute_result"
    }
   ],
   "source": [
    "sk_classifier.fit(training_whole, labels)"
   ]
  },
  {
   "cell_type": "code",
   "execution_count": 692,
   "metadata": {},
   "outputs": [],
   "source": [
    "# test accuracy of the model\n",
    "testing_whole = pd.concat([test_confirmed, homicides_test])\n",
    "testing_whole = testing_whole.fillna(-1)"
   ]
  },
  {
   "cell_type": "code",
   "execution_count": 693,
   "metadata": {},
   "outputs": [
    {
     "data": {
      "text/html": [
       "<div>\n",
       "<style scoped>\n",
       "    .dataframe tbody tr th:only-of-type {\n",
       "        vertical-align: middle;\n",
       "    }\n",
       "\n",
       "    .dataframe tbody tr th {\n",
       "        vertical-align: top;\n",
       "    }\n",
       "\n",
       "    .dataframe thead th {\n",
       "        text-align: right;\n",
       "    }\n",
       "</style>\n",
       "<table border=\"1\" class=\"dataframe\">\n",
       "  <thead>\n",
       "    <tr style=\"text-align: right;\">\n",
       "      <th></th>\n",
       "      <th>Year</th>\n",
       "      <th>Victim Age</th>\n",
       "      <th>SK</th>\n",
       "      <th>Perpetrator Sex_Female</th>\n",
       "      <th>Perpetrator Sex_Male</th>\n",
       "      <th>Perpetrator Race_Black</th>\n",
       "      <th>Perpetrator Race_Unknown</th>\n",
       "      <th>Perpetrator Race_White</th>\n",
       "      <th>Victim Sex_Female</th>\n",
       "      <th>Victim Sex_Male</th>\n",
       "      <th>...</th>\n",
       "      <th>City_Yellowstone</th>\n",
       "      <th>City_Yoakum</th>\n",
       "      <th>City_Yolo</th>\n",
       "      <th>City_York</th>\n",
       "      <th>City_Young</th>\n",
       "      <th>City_Yuba</th>\n",
       "      <th>City_Yukon-Koyukuk</th>\n",
       "      <th>City_Yuma</th>\n",
       "      <th>City_Zapata</th>\n",
       "      <th>City_Zavala</th>\n",
       "    </tr>\n",
       "  </thead>\n",
       "  <tbody>\n",
       "    <tr>\n",
       "      <th>200</th>\n",
       "      <td>2005</td>\n",
       "      <td>31.0</td>\n",
       "      <td>True</td>\n",
       "      <td>0</td>\n",
       "      <td>1</td>\n",
       "      <td>0</td>\n",
       "      <td>1</td>\n",
       "      <td>0</td>\n",
       "      <td>0</td>\n",
       "      <td>1</td>\n",
       "      <td>...</td>\n",
       "      <td>-1.0</td>\n",
       "      <td>-1.0</td>\n",
       "      <td>-1.0</td>\n",
       "      <td>-1.0</td>\n",
       "      <td>-1.0</td>\n",
       "      <td>-1.0</td>\n",
       "      <td>-1.0</td>\n",
       "      <td>-1.0</td>\n",
       "      <td>-1.0</td>\n",
       "      <td>-1.0</td>\n",
       "    </tr>\n",
       "    <tr>\n",
       "      <th>80</th>\n",
       "      <td>1984</td>\n",
       "      <td>9.0</td>\n",
       "      <td>True</td>\n",
       "      <td>0</td>\n",
       "      <td>1</td>\n",
       "      <td>1</td>\n",
       "      <td>0</td>\n",
       "      <td>0</td>\n",
       "      <td>1</td>\n",
       "      <td>0</td>\n",
       "      <td>...</td>\n",
       "      <td>-1.0</td>\n",
       "      <td>-1.0</td>\n",
       "      <td>-1.0</td>\n",
       "      <td>-1.0</td>\n",
       "      <td>-1.0</td>\n",
       "      <td>-1.0</td>\n",
       "      <td>-1.0</td>\n",
       "      <td>-1.0</td>\n",
       "      <td>-1.0</td>\n",
       "      <td>-1.0</td>\n",
       "    </tr>\n",
       "    <tr>\n",
       "      <th>22</th>\n",
       "      <td>1992</td>\n",
       "      <td>29.0</td>\n",
       "      <td>True</td>\n",
       "      <td>0</td>\n",
       "      <td>1</td>\n",
       "      <td>1</td>\n",
       "      <td>0</td>\n",
       "      <td>0</td>\n",
       "      <td>1</td>\n",
       "      <td>0</td>\n",
       "      <td>...</td>\n",
       "      <td>-1.0</td>\n",
       "      <td>-1.0</td>\n",
       "      <td>-1.0</td>\n",
       "      <td>-1.0</td>\n",
       "      <td>-1.0</td>\n",
       "      <td>-1.0</td>\n",
       "      <td>-1.0</td>\n",
       "      <td>-1.0</td>\n",
       "      <td>-1.0</td>\n",
       "      <td>-1.0</td>\n",
       "    </tr>\n",
       "    <tr>\n",
       "      <th>199</th>\n",
       "      <td>2005</td>\n",
       "      <td>22.0</td>\n",
       "      <td>True</td>\n",
       "      <td>0</td>\n",
       "      <td>1</td>\n",
       "      <td>0</td>\n",
       "      <td>1</td>\n",
       "      <td>0</td>\n",
       "      <td>0</td>\n",
       "      <td>1</td>\n",
       "      <td>...</td>\n",
       "      <td>-1.0</td>\n",
       "      <td>-1.0</td>\n",
       "      <td>-1.0</td>\n",
       "      <td>-1.0</td>\n",
       "      <td>-1.0</td>\n",
       "      <td>-1.0</td>\n",
       "      <td>-1.0</td>\n",
       "      <td>-1.0</td>\n",
       "      <td>-1.0</td>\n",
       "      <td>-1.0</td>\n",
       "    </tr>\n",
       "    <tr>\n",
       "      <th>196</th>\n",
       "      <td>2003</td>\n",
       "      <td>19.0</td>\n",
       "      <td>True</td>\n",
       "      <td>0</td>\n",
       "      <td>1</td>\n",
       "      <td>0</td>\n",
       "      <td>1</td>\n",
       "      <td>0</td>\n",
       "      <td>0</td>\n",
       "      <td>1</td>\n",
       "      <td>...</td>\n",
       "      <td>-1.0</td>\n",
       "      <td>-1.0</td>\n",
       "      <td>-1.0</td>\n",
       "      <td>-1.0</td>\n",
       "      <td>-1.0</td>\n",
       "      <td>-1.0</td>\n",
       "      <td>-1.0</td>\n",
       "      <td>-1.0</td>\n",
       "      <td>-1.0</td>\n",
       "      <td>-1.0</td>\n",
       "    </tr>\n",
       "    <tr>\n",
       "      <th>...</th>\n",
       "      <td>...</td>\n",
       "      <td>...</td>\n",
       "      <td>...</td>\n",
       "      <td>...</td>\n",
       "      <td>...</td>\n",
       "      <td>...</td>\n",
       "      <td>...</td>\n",
       "      <td>...</td>\n",
       "      <td>...</td>\n",
       "      <td>...</td>\n",
       "      <td>...</td>\n",
       "      <td>...</td>\n",
       "      <td>...</td>\n",
       "      <td>...</td>\n",
       "      <td>...</td>\n",
       "      <td>...</td>\n",
       "      <td>...</td>\n",
       "      <td>...</td>\n",
       "      <td>...</td>\n",
       "      <td>...</td>\n",
       "      <td>...</td>\n",
       "    </tr>\n",
       "    <tr>\n",
       "      <th>94352</th>\n",
       "      <td>1984</td>\n",
       "      <td>49.0</td>\n",
       "      <td>False</td>\n",
       "      <td>0</td>\n",
       "      <td>1</td>\n",
       "      <td>0</td>\n",
       "      <td>0</td>\n",
       "      <td>1</td>\n",
       "      <td>0</td>\n",
       "      <td>1</td>\n",
       "      <td>...</td>\n",
       "      <td>0.0</td>\n",
       "      <td>0.0</td>\n",
       "      <td>0.0</td>\n",
       "      <td>0.0</td>\n",
       "      <td>0.0</td>\n",
       "      <td>0.0</td>\n",
       "      <td>0.0</td>\n",
       "      <td>0.0</td>\n",
       "      <td>0.0</td>\n",
       "      <td>0.0</td>\n",
       "    </tr>\n",
       "    <tr>\n",
       "      <th>535782</th>\n",
       "      <td>2008</td>\n",
       "      <td>20.0</td>\n",
       "      <td>False</td>\n",
       "      <td>0</td>\n",
       "      <td>1</td>\n",
       "      <td>1</td>\n",
       "      <td>0</td>\n",
       "      <td>0</td>\n",
       "      <td>1</td>\n",
       "      <td>0</td>\n",
       "      <td>...</td>\n",
       "      <td>0.0</td>\n",
       "      <td>0.0</td>\n",
       "      <td>0.0</td>\n",
       "      <td>0.0</td>\n",
       "      <td>0.0</td>\n",
       "      <td>0.0</td>\n",
       "      <td>0.0</td>\n",
       "      <td>0.0</td>\n",
       "      <td>0.0</td>\n",
       "      <td>0.0</td>\n",
       "    </tr>\n",
       "    <tr>\n",
       "      <th>130876</th>\n",
       "      <td>1986</td>\n",
       "      <td>19.0</td>\n",
       "      <td>False</td>\n",
       "      <td>0</td>\n",
       "      <td>1</td>\n",
       "      <td>0</td>\n",
       "      <td>0</td>\n",
       "      <td>1</td>\n",
       "      <td>0</td>\n",
       "      <td>1</td>\n",
       "      <td>...</td>\n",
       "      <td>0.0</td>\n",
       "      <td>0.0</td>\n",
       "      <td>0.0</td>\n",
       "      <td>0.0</td>\n",
       "      <td>0.0</td>\n",
       "      <td>0.0</td>\n",
       "      <td>0.0</td>\n",
       "      <td>0.0</td>\n",
       "      <td>0.0</td>\n",
       "      <td>0.0</td>\n",
       "    </tr>\n",
       "    <tr>\n",
       "      <th>504478</th>\n",
       "      <td>2006</td>\n",
       "      <td>83.0</td>\n",
       "      <td>False</td>\n",
       "      <td>0</td>\n",
       "      <td>1</td>\n",
       "      <td>0</td>\n",
       "      <td>0</td>\n",
       "      <td>1</td>\n",
       "      <td>1</td>\n",
       "      <td>0</td>\n",
       "      <td>...</td>\n",
       "      <td>0.0</td>\n",
       "      <td>0.0</td>\n",
       "      <td>0.0</td>\n",
       "      <td>0.0</td>\n",
       "      <td>0.0</td>\n",
       "      <td>0.0</td>\n",
       "      <td>0.0</td>\n",
       "      <td>0.0</td>\n",
       "      <td>0.0</td>\n",
       "      <td>0.0</td>\n",
       "    </tr>\n",
       "    <tr>\n",
       "      <th>446978</th>\n",
       "      <td>2002</td>\n",
       "      <td>27.0</td>\n",
       "      <td>False</td>\n",
       "      <td>0</td>\n",
       "      <td>1</td>\n",
       "      <td>1</td>\n",
       "      <td>0</td>\n",
       "      <td>0</td>\n",
       "      <td>1</td>\n",
       "      <td>0</td>\n",
       "      <td>...</td>\n",
       "      <td>0.0</td>\n",
       "      <td>0.0</td>\n",
       "      <td>0.0</td>\n",
       "      <td>0.0</td>\n",
       "      <td>0.0</td>\n",
       "      <td>0.0</td>\n",
       "      <td>0.0</td>\n",
       "      <td>0.0</td>\n",
       "      <td>0.0</td>\n",
       "      <td>0.0</td>\n",
       "    </tr>\n",
       "  </tbody>\n",
       "</table>\n",
       "<p>272 rows × 1944 columns</p>\n",
       "</div>"
      ],
      "text/plain": [
       "        Year  Victim Age     SK  Perpetrator Sex_Female  Perpetrator Sex_Male  \\\n",
       "200     2005        31.0   True                       0                     1   \n",
       "80      1984         9.0   True                       0                     1   \n",
       "22      1992        29.0   True                       0                     1   \n",
       "199     2005        22.0   True                       0                     1   \n",
       "196     2003        19.0   True                       0                     1   \n",
       "...      ...         ...    ...                     ...                   ...   \n",
       "94352   1984        49.0  False                       0                     1   \n",
       "535782  2008        20.0  False                       0                     1   \n",
       "130876  1986        19.0  False                       0                     1   \n",
       "504478  2006        83.0  False                       0                     1   \n",
       "446978  2002        27.0  False                       0                     1   \n",
       "\n",
       "        Perpetrator Race_Black  Perpetrator Race_Unknown  \\\n",
       "200                          0                         1   \n",
       "80                           1                         0   \n",
       "22                           1                         0   \n",
       "199                          0                         1   \n",
       "196                          0                         1   \n",
       "...                        ...                       ...   \n",
       "94352                        0                         0   \n",
       "535782                       1                         0   \n",
       "130876                       0                         0   \n",
       "504478                       0                         0   \n",
       "446978                       1                         0   \n",
       "\n",
       "        Perpetrator Race_White  Victim Sex_Female  Victim Sex_Male  ...  \\\n",
       "200                          0                  0                1  ...   \n",
       "80                           0                  1                0  ...   \n",
       "22                           0                  1                0  ...   \n",
       "199                          0                  0                1  ...   \n",
       "196                          0                  0                1  ...   \n",
       "...                        ...                ...              ...  ...   \n",
       "94352                        1                  0                1  ...   \n",
       "535782                       0                  1                0  ...   \n",
       "130876                       1                  0                1  ...   \n",
       "504478                       1                  1                0  ...   \n",
       "446978                       0                  1                0  ...   \n",
       "\n",
       "        City_Yellowstone  City_Yoakum  City_Yolo  City_York  City_Young  \\\n",
       "200                 -1.0         -1.0       -1.0       -1.0        -1.0   \n",
       "80                  -1.0         -1.0       -1.0       -1.0        -1.0   \n",
       "22                  -1.0         -1.0       -1.0       -1.0        -1.0   \n",
       "199                 -1.0         -1.0       -1.0       -1.0        -1.0   \n",
       "196                 -1.0         -1.0       -1.0       -1.0        -1.0   \n",
       "...                  ...          ...        ...        ...         ...   \n",
       "94352                0.0          0.0        0.0        0.0         0.0   \n",
       "535782               0.0          0.0        0.0        0.0         0.0   \n",
       "130876               0.0          0.0        0.0        0.0         0.0   \n",
       "504478               0.0          0.0        0.0        0.0         0.0   \n",
       "446978               0.0          0.0        0.0        0.0         0.0   \n",
       "\n",
       "        City_Yuba  City_Yukon-Koyukuk  City_Yuma  City_Zapata  City_Zavala  \n",
       "200          -1.0                -1.0       -1.0         -1.0         -1.0  \n",
       "80           -1.0                -1.0       -1.0         -1.0         -1.0  \n",
       "22           -1.0                -1.0       -1.0         -1.0         -1.0  \n",
       "199          -1.0                -1.0       -1.0         -1.0         -1.0  \n",
       "196          -1.0                -1.0       -1.0         -1.0         -1.0  \n",
       "...           ...                 ...        ...          ...          ...  \n",
       "94352         0.0                 0.0        0.0          0.0          0.0  \n",
       "535782        0.0                 0.0        0.0          0.0          0.0  \n",
       "130876        0.0                 0.0        0.0          0.0          0.0  \n",
       "504478        0.0                 0.0        0.0          0.0          0.0  \n",
       "446978        0.0                 0.0        0.0          0.0          0.0  \n",
       "\n",
       "[272 rows x 1944 columns]"
      ]
     },
     "execution_count": 693,
     "metadata": {},
     "output_type": "execute_result"
    }
   ],
   "source": [
    "testing_whole"
   ]
  },
  {
   "cell_type": "code",
   "execution_count": 694,
   "metadata": {},
   "outputs": [],
   "source": [
    "test_labels = testing_whole['SK']\n",
    "testing_whole = testing_whole.drop('SK', axis=1)\n",
    "# dummified_testing_whole = pd.get_dummies(testing_whole, columns=['Perpetrator Sex', 'Perpetrator Race','Victim Sex','Weapon', 'State','City'])\n",
    "# dummified_testing_whole = dummified_testing_whole.fillna(-1)"
   ]
  },
  {
   "cell_type": "code",
   "execution_count": 695,
   "metadata": {},
   "outputs": [],
   "source": [
    "label_predictions = sk_classifier.predict(testing_whole)"
   ]
  },
  {
   "cell_type": "code",
   "execution_count": 696,
   "metadata": {},
   "outputs": [],
   "source": [
    "from sklearn.metrics import accuracy_score"
   ]
  },
  {
   "cell_type": "code",
   "execution_count": 697,
   "metadata": {},
   "outputs": [
    {
     "data": {
      "text/plain": [
       "0.5"
      ]
     },
     "execution_count": 697,
     "metadata": {},
     "output_type": "execute_result"
    }
   ],
   "source": [
    "accuracy_score(test_labels, label_predictions)"
   ]
  },
  {
   "cell_type": "markdown",
   "metadata": {},
   "source": [
    "Well, shoot. Now what?"
   ]
  },
  {
   "cell_type": "code",
   "execution_count": 698,
   "metadata": {},
   "outputs": [],
   "source": [
    "## Trying a regressor which can output probabilities instead of a Yes/No"
   ]
  },
  {
   "cell_type": "code",
   "execution_count": 699,
   "metadata": {},
   "outputs": [],
   "source": [
    "from sklearn.neural_network import MLPRegressor\n",
    "from IPython.core.interactiveshell import InteractiveShell\n",
    "InteractiveShell.ast_node_interactivity = \"all\""
   ]
  },
  {
   "cell_type": "code",
   "execution_count": 700,
   "metadata": {},
   "outputs": [],
   "source": [
    "# first iteration of regressor\n",
    "sk_regressor = MLPRegressor(random_state=1, max_iter=500, hidden_layer_sizes=(100,10))"
   ]
  },
  {
   "cell_type": "code",
   "execution_count": 701,
   "metadata": {},
   "outputs": [
    {
     "data": {
      "text/plain": [
       "MLPRegressor(activation='relu', alpha=0.0001, batch_size='auto', beta_1=0.9,\n",
       "             beta_2=0.999, early_stopping=False, epsilon=1e-08,\n",
       "             hidden_layer_sizes=(100, 10), learning_rate='constant',\n",
       "             learning_rate_init=0.001, max_fun=15000, max_iter=500,\n",
       "             momentum=0.9, n_iter_no_change=10, nesterovs_momentum=True,\n",
       "             power_t=0.5, random_state=1, shuffle=True, solver='adam',\n",
       "             tol=0.0001, validation_fraction=0.1, verbose=False,\n",
       "             warm_start=False)"
      ]
     },
     "execution_count": 701,
     "metadata": {},
     "output_type": "execute_result"
    }
   ],
   "source": [
    "sk_regressor.fit(training_whole, labels)"
   ]
  },
  {
   "cell_type": "code",
   "execution_count": 702,
   "metadata": {},
   "outputs": [],
   "source": [
    "probability_predictions = sk_regressor.predict(testing_whole)"
   ]
  },
  {
   "cell_type": "code",
   "execution_count": 703,
   "metadata": {},
   "outputs": [],
   "source": [
    "from sklearn.metrics import mean_squared_error"
   ]
  },
  {
   "cell_type": "code",
   "execution_count": 704,
   "metadata": {},
   "outputs": [
    {
     "data": {
      "text/plain": [
       "0.05485282536106359"
      ]
     },
     "execution_count": 704,
     "metadata": {},
     "output_type": "execute_result"
    }
   ],
   "source": [
    "mean_squared_error(test_labels, probability_predictions)"
   ]
  },
  {
   "cell_type": "code",
   "execution_count": 705,
   "metadata": {},
   "outputs": [
    {
     "name": "stdout",
     "output_type": "stream",
     "text": [
      "[1.01944617 1.01263858 1.03263204 1.01063335 1.00729574 1.01052477\n",
      " 1.06780288 1.04232408 1.02066739 1.02811967 1.00973116 0.98287017\n",
      " 1.00933999 0.99722321 1.02381851 1.02526153 1.02095639 1.02826644\n",
      " 1.03276635 1.00686307 1.01897785 1.00621581 0.99421212 1.04451654\n",
      " 1.02019094 1.00275151 1.03726536 1.00620239 1.03550846 1.0411758\n",
      " 0.99421212 0.99421212 1.01815044 1.0908982  1.0511083  1.0369621\n",
      " 1.03841107 1.01351795 1.01455945 0.9865839  1.01582748 1.01424735\n",
      " 1.0185242  1.04208416 1.00145117 0.98720789 1.00275151 1.02178182\n",
      " 1.01139355 0.98570593 1.02027265 1.00311983 0.97708999 0.99421212\n",
      " 1.04218698 0.99383396 0.98709593 1.0077334  1.01001367 1.03840587\n",
      " 1.04916665 0.98731013 1.02828647 1.01681259 1.0245203  0.9937248\n",
      " 1.04864809 1.02571091 1.0291752  1.08082789 1.00159675 0.99450376\n",
      " 1.03691097 1.01903832 1.00408289 1.05936978 1.01970372 1.03078291\n",
      " 1.01444531 1.03447203 1.05859542 1.00857121 0.99975327 0.97925667\n",
      " 1.01848585 1.00159675 1.01711281 1.01056346 1.01743593 0.99126717\n",
      " 1.02918003 1.00835358 1.01508965 1.02221214 1.01745112 1.04116932\n",
      " 1.05538465 0.99182616 1.0106924  1.03341784 1.00383375 1.05161914\n",
      " 1.0285715  1.03341954 0.99811903 1.00621581 0.97708999 1.01419075\n",
      " 0.9944147  1.03032251 1.01846252 1.0185242  1.03271971 1.00801793\n",
      " 1.01283205 1.00909855 0.99530715 1.02339392 0.99945245 1.03841333\n",
      " 0.97708999 1.00113619 0.98448137 1.02269877 1.02565333 1.08414657\n",
      " 1.01145134 1.01420555 1.00857639 0.99593618 1.09803545 0.98145822\n",
      " 1.04612196 1.01797848 1.00390628 1.01384005 0.32997403 0.32997403\n",
      " 0.32997403 0.32997403 0.32997403 0.32997403 0.32997403 0.32997403\n",
      " 0.32997403 0.32997403 0.32997403 0.32997403 0.32997403 0.32997403\n",
      " 0.32997403 0.32997403 0.32997403 0.32997403 0.32997403 0.32997403\n",
      " 0.32997403 0.32997403 0.32997403 0.32997403 0.32997403 0.32997403\n",
      " 0.32997403 0.32997403 0.32997403 0.32997403 0.32997403 0.32997403\n",
      " 0.32997403 0.32997403 0.32997403 0.32997403 0.32997403 0.32997403\n",
      " 0.32997403 0.32997403 0.32997403 0.32997403 0.32997403 0.32997403\n",
      " 0.32997403 0.32997403 0.32997403 0.32997403 0.32997403 0.32997403\n",
      " 0.32997403 0.32997403 0.32997403 0.32997403 0.32997403 0.32997403\n",
      " 0.32997403 0.32997403 0.32997403 0.32997403 0.32997403 0.32997403\n",
      " 0.32997403 0.32997403 0.32997403 0.32997403 0.32997403 0.32997403\n",
      " 0.32997403 0.32997403 0.32997403 0.32997403 0.32997403 0.32997403\n",
      " 0.32997403 0.32997403 0.32997403 0.32997403 0.32997403 0.32997403\n",
      " 0.32997403 0.32997403 0.32997403 0.32997403 0.32997403 0.32997403\n",
      " 0.32997403 0.32997403 0.32997403 0.32997403 0.32997403 0.32997403\n",
      " 0.32997403 0.32997403 0.32997403 0.32997403 0.32997403 0.32997403\n",
      " 0.32997403 0.32997403 0.32997403 0.32997403 0.32997403 0.32997403\n",
      " 0.32997403 0.32997403 0.32997403 0.32997403 0.32997403 0.32997403\n",
      " 0.32997403 0.32997403 0.32997403 0.32997403 0.32997403 0.32997403\n",
      " 0.32997403 0.32997403 0.32997403 0.32997403 0.32997403 0.32997403\n",
      " 0.32997403 0.32997403 0.32997403 0.32997403 0.32997403 0.32997403\n",
      " 0.32997403 0.32997403 0.32997403 0.32997403 0.32997403 0.32997403\n",
      " 0.32997403 0.32997403]\n"
     ]
    }
   ],
   "source": [
    "print(probability_predictions)"
   ]
  },
  {
   "cell_type": "markdown",
   "metadata": {},
   "source": [
    "# I want to try shuffling the dataset before feeding it in, but that shouldn't make a difference. Also need to perform some cross validation."
   ]
  },
  {
   "cell_type": "code",
   "execution_count": 706,
   "metadata": {},
   "outputs": [],
   "source": [
    "# Perform cross validation on the model"
   ]
  },
  {
   "cell_type": "code",
   "execution_count": 707,
   "metadata": {},
   "outputs": [],
   "source": [
    "from sklearn.model_selection import cross_val_score"
   ]
  },
  {
   "cell_type": "code",
   "execution_count": 718,
   "metadata": {},
   "outputs": [],
   "source": [
    "sk_regressor_cv = MLPRegressor(random_state=1, max_iter=1000, hidden_layer_sizes=(10,10,10,10))"
   ]
  },
  {
   "cell_type": "code",
   "execution_count": 792,
   "metadata": {},
   "outputs": [],
   "source": [
    "# concat data set - want to use a high number of uncomfired cases to ensure that categorical variable repeats aren't messing things up\n",
    "entire_set = pd.concat([dummified_homicides.sample(5000),confirmed])\n",
    "# shuffle the data set to assure myself that that's not messing with things\n",
    "entire_set = entire_set.sample(frac=1)\n",
    "entire_set = entire_set.fillna(-1)\n",
    "entire_set_labels = entire_set['SK']\n",
    "entire_set = entire_set.drop('SK', axis=1)"
   ]
  },
  {
   "cell_type": "code",
   "execution_count": 720,
   "metadata": {},
   "outputs": [
    {
     "name": "stdout",
     "output_type": "stream",
     "text": [
      "[-2.80378416e-05 -9.64867330e-06 -4.98224885e-02 -5.96176740e-02\n",
      " -1.11599390e-05 -9.62414916e-06 -7.91260698e-06 -8.75115275e-06\n",
      " -1.08558895e-05 -9.41108767e-06]\n"
     ]
    }
   ],
   "source": [
    "# perform cross validation\n",
    "res = cross_val_score(sk_regressor_cv, entire_set, entire_set_labels, cv=10, scoring='neg_mean_squared_error')\n",
    "print(res)"
   ]
  },
  {
   "cell_type": "code",
   "execution_count": 721,
   "metadata": {},
   "outputs": [
    {
     "name": "stdout",
     "output_type": "stream",
     "text": [
      "RMSE: -0.01 (+/- 0.04)\n"
     ]
    }
   ],
   "source": [
    "print(\"RMSE: %0.2f (+/- %0.2f)\" % (res.mean(), res.std() * 2))"
   ]
  },
  {
   "cell_type": "code",
   "execution_count": 793,
   "metadata": {},
   "outputs": [
    {
     "name": "stdout",
     "output_type": "stream",
     "text": [
      "[0.97025234 0.92814244 0.95691208 0.95334309 0.9659137  0.95768887\n",
      " 0.92916338 0.95773535 0.96130815 0.95755798]\n",
      "Accuracy: 0.95 (+/- 0.03)\n"
     ]
    }
   ],
   "source": [
    "# I don't think this is a valid way to score the output since we're not doing a classification type mlp\n",
    "res = cross_val_score(sk_regressor_cv, entire_set, entire_set_labels, cv=10)\n",
    "print(res)\n",
    "print(\"Accuracy: %0.2f (+/- %0.2f)\" % (res.mean(), res.std() * 2))"
   ]
  },
  {
   "cell_type": "code",
   "execution_count": 713,
   "metadata": {},
   "outputs": [
    {
     "data": {
      "text/plain": [
       "[5339]"
      ]
     },
     "execution_count": 713,
     "metadata": {},
     "output_type": "execute_result"
    }
   ],
   "source": [
    "[entire_set_labels.shape[0]]"
   ]
  },
  {
   "cell_type": "code",
   "execution_count": 794,
   "metadata": {},
   "outputs": [
    {
     "data": {
      "text/plain": [
       "MLPRegressor(activation='relu', alpha=0.0001, batch_size='auto', beta_1=0.9,\n",
       "             beta_2=0.999, early_stopping=False, epsilon=1e-08,\n",
       "             hidden_layer_sizes=(10, 10, 10, 10), learning_rate='constant',\n",
       "             learning_rate_init=0.001, max_fun=15000, max_iter=1000,\n",
       "             momentum=0.9, n_iter_no_change=10, nesterovs_momentum=True,\n",
       "             power_t=0.5, random_state=1, shuffle=True, solver='adam',\n",
       "             tol=0.0001, validation_fraction=0.1, verbose=False,\n",
       "             warm_start=False)"
      ]
     },
     "execution_count": 794,
     "metadata": {},
     "output_type": "execute_result"
    }
   ],
   "source": [
    "sk_regressor_cv.fit(entire_set, entire_set_labels)"
   ]
  },
  {
   "cell_type": "code",
   "execution_count": 725,
   "metadata": {},
   "outputs": [
    {
     "data": {
      "text/plain": [
       "<module 'VisualizeNN' from '/Users/max/Documents/School/Applied Data Analysis/project/VisualizeNN.py'>"
      ]
     },
     "execution_count": 725,
     "metadata": {},
     "output_type": "execute_result"
    },
    {
     "data": {
      "image/png": "[encoded data removed]",
      "text/plain": [
       "<Figure size 864x648 with 1 Axes>"
      ]
     },
     "metadata": {
      "needs_background": "light"
     },
     "output_type": "display_data"
    }
   ],
   "source": [
    "# create visualization of neural network here\n",
    "# thanks to https://github.com/jzliu-100/visualize-neural-network\n",
    "import VisualizeNN as VisNN\n",
    "importlib.reload(VisNN)\n",
    "# input and output layers are far too large to fit on the image\n",
    "network=VisNN.DrawNN([1, 10, 10, 10, 10, 1], sk_regressor_cv.coefs_)\n",
    "network.draw()"
   ]
  },
  {
   "cell_type": "code",
   "execution_count": 554,
   "metadata": {},
   "outputs": [
    {
     "name": "stdout",
     "output_type": "stream",
     "text": [
      "[[-3.15049073e-01  3.37241102e-02 -2.35708477e-01  1.86724878e-01\n",
      "  -1.78813569e-02  3.88845558e-01  2.06712843e-01 -2.81266251e-01\n",
      "   5.07774504e-01 -9.70106001e-02]\n",
      " [-2.41667485e-01 -3.50416429e-02 -3.18794748e-01  6.66794699e-01\n",
      "  -1.88941761e-02 -3.55562681e-01 -3.18654074e-01  1.85675536e-03\n",
      "   1.11704887e-01  4.11757215e-01]\n",
      " [ 5.84325155e-02  3.06006549e-01 -8.53099537e-02 -1.86678938e-01\n",
      "  -5.28310870e-03 -4.63745317e-01 -4.83089401e-01 -4.98799201e-01\n",
      "   3.66049272e-01  4.11617813e-01]\n",
      " [ 7.76952221e-03 -2.96237723e-10 -3.96688080e-13 -3.46586261e-02\n",
      "   7.35155588e-04  3.46687146e-02 -1.80661152e-02  2.15136053e-02\n",
      "   4.66895626e-02  1.99865100e-02]\n",
      " [-7.77624383e-03 -5.15627437e-01  2.91874000e-01  4.66649390e-01\n",
      "  -2.65515231e-01 -1.15231193e-01  4.21778759e-03 -1.34227566e-01\n",
      "  -1.24944473e-01 -4.05164260e-01]\n",
      " [ 1.97295051e-06 -1.27742908e-05 -1.23573869e-02 -1.88321524e-04\n",
      "  -2.42597130e-05 -5.56308076e-08  2.47117876e-02  6.12884091e-03\n",
      "  -1.08712341e-09  2.13939884e-02]\n",
      " [-1.43766129e-02 -5.79818184e-02  2.51474265e-04 -1.91200334e-03\n",
      "   4.68961599e-17  2.37508943e-08  3.10115570e-02  7.85774270e-03\n",
      "   4.13649760e-04  1.42173774e-03]\n",
      " [-1.42165907e-01 -7.42665705e-02 -5.07729160e-02  3.04161395e-01\n",
      "  -1.25769084e-01  1.48647628e-01  4.73325160e-02  2.86745491e-01\n",
      "  -7.81273414e-02  2.91800434e-02]\n",
      " [ 3.23500154e-01  1.18282839e-01  4.92095201e-01  3.65132382e-01\n",
      "  -1.12589720e-01 -2.64645419e-01  2.06192456e-01  7.41217149e-02\n",
      "  -4.65600543e-01 -2.60771057e-01]\n",
      " [ 5.28213773e-03 -3.37765643e-03  1.41309618e-05  2.44636715e-02\n",
      "   6.70368602e-02  2.07625721e-05 -5.38907089e-02 -1.53060455e-04\n",
      "   1.74498111e-02  5.69406328e-03]]\n"
     ]
    }
   ],
   "source": [
    "print(sk_regressor_cv.coefs_[3])"
   ]
  },
  {
   "cell_type": "code",
   "execution_count": 886,
   "metadata": {},
   "outputs": [],
   "source": [
    "# More robust testing required - going to split by actual serial killer, and see if the new crimes are effectively being detected\n",
    "# Does the model need to have seen that particular murderer before, or can it extrapolate well to new murderers?\n",
    "# Ran this part multiple times in order to get an average mse"
   ]
  },
  {
   "cell_type": "code",
   "execution_count": 887,
   "metadata": {},
   "outputs": [],
   "source": [
    "# First finding how many different serial killers are in this dataset\n",
    "# Reimporting the original serial killer dataset\n",
    "confirmed_split = pd.read_excel('Confirmed Serial Killings Database.xlsx')\n",
    "confirmed_split['SK'] = True\n",
    "confirmed_split = confirmed_split.replace(\"F\", \"Female\")\n",
    "confirmed_split = confirmed_split.replace(\"M\", \"Male\")\n",
    "confirmed_split = pd.get_dummies(confirmed_split, columns=['Perpetrator Sex', 'Perpetrator Race','Victim Sex','Weapon', 'State','City'])"
   ]
  },
  {
   "cell_type": "code",
   "execution_count": 888,
   "metadata": {},
   "outputs": [],
   "source": [
    "# We're going to split the dataset in half randomly by grouping the actual serial killers, instead of randomly sampling the rows\n",
    "train_sks, test_sks = train_test_split(confirmed_split.Murderer.unique(), test_size = 0.5)"
   ]
  },
  {
   "cell_type": "code",
   "execution_count": 889,
   "metadata": {},
   "outputs": [],
   "source": [
    "train_confirmed_sksplit = confirmed_split[confirmed_split['Murderer'].isin(train_sks)]\n",
    "test_confirmed_sksplit = confirmed_split[confirmed_split['Murderer'].isin(test_sks)]"
   ]
  },
  {
   "cell_type": "code",
   "execution_count": 890,
   "metadata": {},
   "outputs": [],
   "source": [
    "train_confirmed_sksplit = train_confirmed_sksplit.drop([\"Murderer\"], axis=1)\n",
    "test_confirmed_sksplit = test_confirmed_sksplit.drop([\"Murderer\"], axis=1)"
   ]
  },
  {
   "cell_type": "code",
   "execution_count": 891,
   "metadata": {},
   "outputs": [],
   "source": [
    "normal_records_training = dummified_homicides.sample(5000)\n",
    "normal_records_testing = dummified_homicides.sample(5000)\n",
    "# concatenate and get labels\n",
    "sksplit_training = pd.concat([train_confirmed_sksplit, normal_records_training])\n",
    "sksplit_training = sksplit_training.sample(frac=1)\n",
    "sksplit_testing = pd.concat([test_confirmed_sksplit, normal_records_testing])\n",
    "sksplit_testing = sksplit_testing.sample(frac=1)\n",
    "skplit_training_labels = sksplit_training['SK']\n",
    "sksplit_testing_labels = sksplit_testing['SK']\n",
    "sksplit_training = sksplit_training.drop(\"SK\", axis=1)\n",
    "sksplit_training = sksplit_training.fillna(-1)\n",
    "sksplit_testing = sksplit_testing.drop(\"SK\", axis=1)\n",
    "sksplit_testing = sksplit_testing.fillna(-1)"
   ]
  },
  {
   "cell_type": "code",
   "execution_count": 892,
   "metadata": {},
   "outputs": [],
   "source": [
    "# Now, perform the training with the same kind of model as above and evaluate"
   ]
  },
  {
   "cell_type": "code",
   "execution_count": 893,
   "metadata": {},
   "outputs": [],
   "source": [
    "sk_regressor_split = MLPRegressor(random_state=1, max_iter=1000, hidden_layer_sizes=(10,10,10,10))"
   ]
  },
  {
   "cell_type": "code",
   "execution_count": 894,
   "metadata": {},
   "outputs": [
    {
     "data": {
      "text/plain": [
       "MLPRegressor(activation='relu', alpha=0.0001, batch_size='auto', beta_1=0.9,\n",
       "             beta_2=0.999, early_stopping=False, epsilon=1e-08,\n",
       "             hidden_layer_sizes=(10, 10, 10, 10), learning_rate='constant',\n",
       "             learning_rate_init=0.001, max_fun=15000, max_iter=1000,\n",
       "             momentum=0.9, n_iter_no_change=10, nesterovs_momentum=True,\n",
       "             power_t=0.5, random_state=1, shuffle=True, solver='adam',\n",
       "             tol=0.0001, validation_fraction=0.1, verbose=False,\n",
       "             warm_start=False)"
      ]
     },
     "execution_count": 894,
     "metadata": {},
     "output_type": "execute_result"
    }
   ],
   "source": [
    "sk_regressor_split.fit(sksplit_training, skplit_training_labels)"
   ]
  },
  {
   "cell_type": "code",
   "execution_count": 895,
   "metadata": {},
   "outputs": [],
   "source": [
    "predicted_labels = sk_regressor_split.predict(sksplit_testing)"
   ]
  },
  {
   "cell_type": "code",
   "execution_count": 896,
   "metadata": {},
   "outputs": [
    {
     "data": {
      "text/plain": [
       "0.022837781510841516"
      ]
     },
     "execution_count": 896,
     "metadata": {},
     "output_type": "execute_result"
    }
   ],
   "source": [
    "np.sqrt(mean_squared_error(sksplit_testing_labels, predicted_labels))"
   ]
  },
  {
   "cell_type": "code",
   "execution_count": 897,
   "metadata": {},
   "outputs": [
    {
     "data": {
      "text/plain": [
       "-0.03108153465938246"
      ]
     },
     "execution_count": 897,
     "metadata": {},
     "output_type": "execute_result"
    }
   ],
   "source": [
    "min(predicted_labels)"
   ]
  },
  {
   "cell_type": "code",
   "execution_count": 898,
   "metadata": {},
   "outputs": [
    {
     "data": {
      "image/png": "[encoded data removed]",
      "text/plain": [
       "<Figure size 864x648 with 1 Axes>"
      ]
     },
     "metadata": {
      "needs_background": "light"
     },
     "output_type": "display_data"
    }
   ],
   "source": [
    "network=VisNN.DrawNN([1, 10, 10, 10, 10, 1], sk_regressor_split.coefs_)\n",
    "network.draw()"
   ]
  },
  {
   "cell_type": "code",
   "execution_count": 567,
   "metadata": {},
   "outputs": [],
   "source": [
    "# run the regressor on all of the input from the homicides dataset, and see what the min and max probabilities are - do some\n",
    "# jump out more than others do as potential serial killer activity? "
   ]
  },
  {
   "cell_type": "code",
   "execution_count": 583,
   "metadata": {},
   "outputs": [
    {
     "data": {
      "text/plain": [
       "['City_Norwood',\n",
       " 'City_Kilpatrick',\n",
       " 'City_Salt Lake City',\n",
       " 'City_Assumption Parish',\n",
       " 'City_New Britain',\n",
       " 'City_Cincinnati',\n",
       " 'City_Temecula',\n",
       " 'City_Indio',\n",
       " 'City_Jacksonville',\n",
       " 'City_Sonoma County',\n",
       " 'City_Lake Village',\n",
       " 'City_Suffolk County',\n",
       " 'Victim Sex_U',\n",
       " 'State_Massachussets',\n",
       " 'City_Niagara Falls',\n",
       " 'City_Portland',\n",
       " 'City_Indianapolis',\n",
       " 'City_Silver Spring',\n",
       " 'City_Gary',\n",
       " 'City_Kansas City',\n",
       " 'City_Tampa Bay',\n",
       " 'City_Vancouver',\n",
       " 'City_St Charles Parish',\n",
       " 'City_Dayton Beach',\n",
       " 'City_Route 60',\n",
       " 'City_Hasbrouck Heights',\n",
       " 'City_Kenosha County',\n",
       " 'City_Phoenix',\n",
       " 'City_Terrebonne Parish',\n",
       " 'City_Chicago',\n",
       " 'City_Manhattan',\n",
       " 'City_Pocahontas County',\n",
       " 'City_Gold Beach',\n",
       " 'City_Pomona',\n",
       " 'City_Bethesda',\n",
       " 'City_Fort Benning',\n",
       " 'City_Highway 71',\n",
       " 'City_El Monte',\n",
       " 'City_Farmington',\n",
       " 'City_Clarendon Hills',\n",
       " 'City_Watertown',\n",
       " 'City_Kanakee County',\n",
       " 'City_Johnstown',\n",
       " 'City_Burton',\n",
       " 'City_Gulfport',\n",
       " 'City_Detroit',\n",
       " 'City_Colorado Springs',\n",
       " 'City_North Sea',\n",
       " 'City_Glenview',\n",
       " 'City_Clarksburg',\n",
       " 'City_Poughkeepsie',\n",
       " 'City_Lakeland',\n",
       " 'City_Blountstown',\n",
       " 'City_Hendricks County',\n",
       " 'Perpetrator Sex_M ',\n",
       " 'City_Kenner',\n",
       " 'City_Newhall',\n",
       " 'City_Lafourche Parish',\n",
       " 'City_Mansfield',\n",
       " 'City_Toledo',\n",
       " 'City_Huntsville',\n",
       " 'City_Chino',\n",
       " 'City_Portageville',\n",
       " 'City_Mooresville',\n",
       " 'City_Villa Park',\n",
       " 'City_Alderpoint',\n",
       " 'City_Orlando',\n",
       " 'City_Highland Park',\n",
       " 'City_Metarie',\n",
       " 'City_Normangee',\n",
       " 'City_Fort Worth',\n",
       " 'State_Mississipi ',\n",
       " 'State_Florida ',\n",
       " 'City_Iberville Parish',\n",
       " 'City_Shirley',\n",
       " 'State_Virgina',\n",
       " 'City_Walnut',\n",
       " 'City_Hillsboro',\n",
       " 'City_Montgomery County',\n",
       " 'City_St Regis',\n",
       " \"City_Couer d'Alene\",\n",
       " 'City_Jefferson Parish',\n",
       " 'City_Springfield']"
      ]
     },
     "execution_count": 583,
     "metadata": {},
     "output_type": "execute_result"
    }
   ],
   "source": [
    "not_included = list(set(sksplit_training.columns) - set(dummified_homicides.columns))\n",
    "not_included"
   ]
  },
  {
   "cell_type": "code",
   "execution_count": 585,
   "metadata": {},
   "outputs": [],
   "source": [
    "all_homicides = pd.concat([dummified_homicides, pd.DataFrame(columns = not_included)])\n",
    "all_homicides = all_homicides.fillna(-1)\n",
    "all_homicides = all_homicides.drop(\"SK\", axis=1)"
   ]
  },
  {
   "cell_type": "code",
   "execution_count": 586,
   "metadata": {},
   "outputs": [
    {
     "data": {
      "text/plain": [
       "1945"
      ]
     },
     "execution_count": 586,
     "metadata": {},
     "output_type": "execute_result"
    }
   ],
   "source": [
    "len(all_homicides.columns)"
   ]
  },
  {
   "cell_type": "code",
   "execution_count": 587,
   "metadata": {},
   "outputs": [],
   "source": [
    "entire_homicide_predictions = sk_regressor_split.predict(all_homicides)"
   ]
  },
  {
   "cell_type": "code",
   "execution_count": 588,
   "metadata": {},
   "outputs": [
    {
     "data": {
      "text/plain": [
       "-0.12777513059571644"
      ]
     },
     "execution_count": 588,
     "metadata": {},
     "output_type": "execute_result"
    }
   ],
   "source": [
    "min(entire_homicide_predictions)"
   ]
  },
  {
   "cell_type": "code",
   "execution_count": 589,
   "metadata": {},
   "outputs": [
    {
     "data": {
      "text/plain": [
       "0.6217990478334814"
      ]
     },
     "execution_count": 589,
     "metadata": {},
     "output_type": "execute_result"
    }
   ],
   "source": [
    "max(entire_homicide_predictions)"
   ]
  },
  {
   "cell_type": "code",
   "execution_count": 593,
   "metadata": {},
   "outputs": [],
   "source": [
    "### is this being driven entirely by location? Trying cross validation again without the cities involved"
   ]
  },
  {
   "cell_type": "code",
   "execution_count": 900,
   "metadata": {},
   "outputs": [],
   "source": [
    "confirmed = pd.read_excel('Confirmed Serial Killings Database.xlsx')\n",
    "confirmed = confirmed.drop('Murderer', axis=1)\n",
    "confirmed['SK'] = True\n",
    "confirmed = confirmed.replace(\"F\", \"Female\")\n",
    "confirmed = confirmed.replace(\"M\", \"Male\")\n",
    "confirmed = confirmed.replace(\"U\", \"Unknown\")\n",
    "confirmed = confirmed.replace(\"M \", \"Male\")\n",
    "confirmed = confirmed.replace(\"U \", \"Unknown\")\n",
    "confirmed = confirmed.drop(\"City\", axis=1)\n",
    "confirmed = pd.get_dummies(confirmed, columns=['Perpetrator Sex', 'Perpetrator Race','Victim Sex','Weapon', 'State'])"
   ]
  },
  {
   "cell_type": "code",
   "execution_count": 901,
   "metadata": {},
   "outputs": [],
   "source": [
    "dummified_homicides = pd.get_dummies(homicides_cleaned, columns=['Perpetrator Sex', 'Perpetrator Race','Victim Sex','Weapon', 'State'])\n",
    "dummified_homicides = dummified_homicides.drop(\"City\", axis=1)"
   ]
  },
  {
   "cell_type": "code",
   "execution_count": 767,
   "metadata": {},
   "outputs": [],
   "source": [
    "sk_regressor_cv = MLPRegressor(random_state=1, max_iter=1000, hidden_layer_sizes=(10,10,10,10))"
   ]
  },
  {
   "cell_type": "code",
   "execution_count": 768,
   "metadata": {},
   "outputs": [],
   "source": [
    "# concat data set - want to use a high number of uncomfired cases to ensure that categorical variable repeats aren't messing things up\n",
    "entire_set = pd.concat([dummified_homicides.sample(5000),confirmed])\n",
    "# shuffle the data set to assure myself that that's not messing with things\n",
    "entire_set = entire_set.sample(frac=1)\n",
    "entire_set = entire_set.fillna(-1)\n",
    "entire_set_labels = entire_set['SK']\n",
    "entire_set = entire_set.drop('SK', axis=1)"
   ]
  },
  {
   "cell_type": "code",
   "execution_count": 769,
   "metadata": {},
   "outputs": [
    {
     "name": "stdout",
     "output_type": "stream",
     "text": [
      "[-0.00322751 -0.00260656 -0.00274755 -0.00357964 -0.00268226 -0.00343031\n",
      " -0.00326127 -0.00275563 -0.00293115 -0.00296542]\n"
     ]
    }
   ],
   "source": [
    "# perform cross validation\n",
    "res = cross_val_score(sk_regressor_cv, entire_set, entire_set_labels, cv=10, scoring='neg_mean_squared_error')\n",
    "print(res)"
   ]
  },
  {
   "cell_type": "code",
   "execution_count": 770,
   "metadata": {},
   "outputs": [
    {
     "name": "stdout",
     "output_type": "stream",
     "text": [
      "RMSE: -0.00 (+/- 0.00)\n"
     ]
    }
   ],
   "source": [
    "print(\"RMSE: %0.2f (+/- %0.2f)\" % (res.mean(), res.std() * 2))"
   ]
  },
  {
   "cell_type": "code",
   "execution_count": 771,
   "metadata": {},
   "outputs": [
    {
     "name": "stdout",
     "output_type": "stream",
     "text": [
      "[0.95342394 0.94372531 0.96035023 0.93453749 0.95941936 0.95160667\n",
      " 0.94812751 0.94803014 0.93671755 0.94586543]\n",
      "Accuracy: 0.95 (+/- 0.02)\n"
     ]
    }
   ],
   "source": [
    "res = cross_val_score(sk_regressor_cv, entire_set, entire_set_labels, cv=10)\n",
    "print(res)\n",
    "print(\"Accuracy: %0.2f (+/- %0.2f)\" % (res.mean(), res.std() * 2))"
   ]
  },
  {
   "cell_type": "code",
   "execution_count": 772,
   "metadata": {},
   "outputs": [
    {
     "data": {
      "text/plain": [
       "MLPRegressor(activation='relu', alpha=0.0001, batch_size='auto', beta_1=0.9,\n",
       "             beta_2=0.999, early_stopping=False, epsilon=1e-08,\n",
       "             hidden_layer_sizes=(10, 10, 10, 10), learning_rate='constant',\n",
       "             learning_rate_init=0.001, max_fun=15000, max_iter=1000,\n",
       "             momentum=0.9, n_iter_no_change=10, nesterovs_momentum=True,\n",
       "             power_t=0.5, random_state=1, shuffle=True, solver='adam',\n",
       "             tol=0.0001, validation_fraction=0.1, verbose=False,\n",
       "             warm_start=False)"
      ]
     },
     "execution_count": 772,
     "metadata": {},
     "output_type": "execute_result"
    }
   ],
   "source": [
    "sk_regressor_cv.fit(entire_set, entire_set_labels)"
   ]
  },
  {
   "cell_type": "code",
   "execution_count": 773,
   "metadata": {},
   "outputs": [
    {
     "name": "stdout",
     "output_type": "stream",
     "text": [
      "84\n",
      "10\n",
      "10\n",
      "10\n",
      "10\n"
     ]
    }
   ],
   "source": [
    "for x in sk_regressor_cv.coefs_:\n",
    "    print(len(x))"
   ]
  },
  {
   "cell_type": "code",
   "execution_count": 674,
   "metadata": {},
   "outputs": [
    {
     "data": {
      "image/png": "[encoded data removed]",
      "text/plain": [
       "<Figure size 864x648 with 1 Axes>"
      ]
     },
     "metadata": {
      "needs_background": "light"
     },
     "output_type": "display_data"
    }
   ],
   "source": [
    "network=VisNN.DrawNN([84, 10, 10, 10, 10, 1], sk_regressor_cv.coefs_)\n",
    "network.draw()"
   ]
  },
  {
   "cell_type": "code",
   "execution_count": 791,
   "metadata": {},
   "outputs": [
    {
     "name": "stdout",
     "output_type": "stream",
     "text": [
      "16 Weapon_Explosives\n",
      "17 Weapon_Fall\n",
      "21 Weapon_Handgun\n",
      "29 State_Alabama\n",
      "36 State_Delaware\n",
      "37 State_District of Columbia\n",
      "40 State_Hawaii\n",
      "44 State_Iowa\n",
      "46 State_Kentucky\n",
      "48 State_Maine\n",
      "50 State_Massachusetts\n",
      "52 State_Minnesota\n",
      "53 State_Mississippi\n",
      "56 State_Nebraska\n",
      "57 State_Nevada\n",
      "63 State_North Dakota\n",
      "65 State_Oklahoma\n",
      "71 State_Tennessee\n",
      "75 State_Virginia\n"
     ]
    }
   ],
   "source": [
    "# checking what the highly negative inputs layer weights are\n",
    "for i in range(len(sk_regressor_cv.coefs_[0])):\n",
    "    if (sk_regressor_cv.coefs_[0][i][-1]) < -0.3:\n",
    "        print(i, entire_set.columns[i])"
   ]
  },
  {
   "cell_type": "code",
   "execution_count": 619,
   "metadata": {},
   "outputs": [],
   "source": [
    "# again cross validation where we're splitting by serial killer group"
   ]
  },
  {
   "cell_type": "code",
   "execution_count": 935,
   "metadata": {},
   "outputs": [],
   "source": [
    "# First finding how many different serial killers are in this dataset\n",
    "# Reimporting the original serial killer dataset\n",
    "confirmed_split = pd.read_excel('Confirmed Serial Killings Database.xlsx')\n",
    "confirmed_split['SK'] = True\n",
    "confirmed_split = confirmed_split.replace(\"F\", \"Female\")\n",
    "confirmed_split = confirmed_split.replace(\"M\", \"Male\")\n",
    "confirmed_split = pd.get_dummies(confirmed_split, columns=['Perpetrator Sex', 'Perpetrator Race','Victim Sex','Weapon', 'State'])\n",
    "confirmed_split = confirmed_split.drop(\"City\", axis=1)"
   ]
  },
  {
   "cell_type": "code",
   "execution_count": 936,
   "metadata": {},
   "outputs": [],
   "source": [
    "train_sks, test_sks = train_test_split(confirmed_split.Murderer.unique(), test_size = 0.5)"
   ]
  },
  {
   "cell_type": "code",
   "execution_count": 937,
   "metadata": {},
   "outputs": [],
   "source": [
    "train_confirmed_sksplit = confirmed_split[confirmed_split['Murderer'].isin(train_sks)]\n",
    "test_confirmed_sksplit = confirmed_split[confirmed_split['Murderer'].isin(test_sks)]"
   ]
  },
  {
   "cell_type": "code",
   "execution_count": 938,
   "metadata": {},
   "outputs": [],
   "source": [
    "train_confirmed_sksplit = train_confirmed_sksplit.drop([\"Murderer\"], axis=1)\n",
    "test_confirmed_sksplit = test_confirmed_sksplit.drop([\"Murderer\"], axis=1)"
   ]
  },
  {
   "cell_type": "code",
   "execution_count": 939,
   "metadata": {},
   "outputs": [],
   "source": [
    "normal_records_training = dummified_homicides.sample(5000)\n",
    "normal_records_testing = dummified_homicides.sample(5000)\n",
    "# concatenate and get labels\n",
    "sksplit_training = pd.concat([train_confirmed_sksplit, normal_records_training])\n",
    "sksplit_training = sksplit_training.sample(frac=1)\n",
    "sksplit_testing = pd.concat([test_confirmed_sksplit, normal_records_testing])\n",
    "sksplit_testing = sksplit_testing.sample(frac=1)\n",
    "skplit_training_labels = sksplit_training['SK']\n",
    "sksplit_testing_labels = sksplit_testing['SK']\n",
    "sksplit_training = sksplit_training.drop(\"SK\", axis=1)\n",
    "sksplit_training = sksplit_training.fillna(-1)\n",
    "sksplit_testing = sksplit_testing.drop(\"SK\", axis=1)\n",
    "sksplit_testing = sksplit_testing.fillna(-1)"
   ]
  },
  {
   "cell_type": "code",
   "execution_count": 940,
   "metadata": {},
   "outputs": [],
   "source": [
    "sk_regressor_split = MLPRegressor(random_state=1, max_iter=1000, hidden_layer_sizes=(10,10,10,10))"
   ]
  },
  {
   "cell_type": "code",
   "execution_count": 941,
   "metadata": {},
   "outputs": [
    {
     "data": {
      "text/plain": [
       "MLPRegressor(activation='relu', alpha=0.0001, batch_size='auto', beta_1=0.9,\n",
       "             beta_2=0.999, early_stopping=False, epsilon=1e-08,\n",
       "             hidden_layer_sizes=(10, 10, 10, 10), learning_rate='constant',\n",
       "             learning_rate_init=0.001, max_fun=15000, max_iter=1000,\n",
       "             momentum=0.9, n_iter_no_change=10, nesterovs_momentum=True,\n",
       "             power_t=0.5, random_state=1, shuffle=True, solver='adam',\n",
       "             tol=0.0001, validation_fraction=0.1, verbose=False,\n",
       "             warm_start=False)"
      ]
     },
     "execution_count": 941,
     "metadata": {},
     "output_type": "execute_result"
    }
   ],
   "source": [
    "sk_regressor_split.fit(sksplit_training, skplit_training_labels)"
   ]
  },
  {
   "cell_type": "code",
   "execution_count": 942,
   "metadata": {},
   "outputs": [],
   "source": [
    "predicted_labels = sk_regressor_split.predict(sksplit_testing)"
   ]
  },
  {
   "cell_type": "code",
   "execution_count": 943,
   "metadata": {},
   "outputs": [
    {
     "data": {
      "text/plain": [
       "0.042429448907197506"
      ]
     },
     "execution_count": 943,
     "metadata": {},
     "output_type": "execute_result"
    }
   ],
   "source": [
    "np.sqrt(mean_squared_error(sksplit_testing_labels, predicted_labels))"
   ]
  },
  {
   "cell_type": "code",
   "execution_count": 783,
   "metadata": {},
   "outputs": [
    {
     "data": {
      "text/plain": [
       "<module 'VisualizeNN' from '/Users/max/Documents/School/Applied Data Analysis/project/VisualizeNN.py'>"
      ]
     },
     "execution_count": 783,
     "metadata": {},
     "output_type": "execute_result"
    }
   ],
   "source": [
    "import importlib\n",
    "importlib.reload(VisNN)"
   ]
  },
  {
   "cell_type": "code",
   "execution_count": 673,
   "metadata": {},
   "outputs": [
    {
     "data": {
      "image/png": "[encoded data removed]",
      "text/plain": [
       "<Figure size 864x648 with 1 Axes>"
      ]
     },
     "metadata": {
      "needs_background": "light"
     },
     "output_type": "display_data"
    }
   ],
   "source": [
    "network=VisNN.DrawNN([86, 10, 10, 10, 10, 1], sk_regressor_split.coefs_)\n",
    "network.draw()"
   ]
  },
  {
   "cell_type": "code",
   "execution_count": 944,
   "metadata": {},
   "outputs": [
    {
     "name": "stdout",
     "output_type": "stream",
     "text": [
      "Perpetrator Race_Asian/Pacific Islander\n",
      "Perpetrator Race_Native American/Alaska Native\n",
      "Victim Sex_Unknown\n",
      "Weapon_Explosives\n",
      "Weapon_Fire\n",
      "Weapon_Rifle\n",
      "State_Alabama\n",
      "State_Delaware\n",
      "State_District of Columbia\n",
      "State_Kentucky\n",
      "State_Massachusetts\n",
      "State_Mississippi\n",
      "State_Nevada\n",
      "State_New Mexico\n",
      "State_Rhodes Island\n",
      "State_Virginia\n"
     ]
    }
   ],
   "source": [
    "# checking what the highly negative inputs layer weights are\n",
    "for i in range(len(sk_regressor_split.coefs_[0])):\n",
    "    if (sk_regressor_split.coefs_[0][i][-1]) < -0.3:\n",
    "        print(sksplit_training.columns[i])"
   ]
  },
  {
   "cell_type": "code",
   "execution_count": null,
   "metadata": {},
   "outputs": [],
   "source": []
  }
 ],
 "metadata": {
  "kernelspec": {
   "display_name": "Python 3",
   "language": "python",
   "name": "python3"
  },
  "language_info": {
   "codemirror_mode": {
    "name": "ipython",
    "version": 3
   },
   "file_extension": ".py",
   "mimetype": "text/x-python",
   "name": "python",
   "nbconvert_exporter": "python",
   "pygments_lexer": "ipython3",
   "version": "3.7.6"
  }
 },
 "nbformat": 4,
 "nbformat_minor": 4
}
